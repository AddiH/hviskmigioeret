{
 "cells": [
  {
   "cell_type": "code",
   "execution_count": null,
   "metadata": {},
   "outputs": [],
   "source": [
    "def trim_video(video_file_path, start_time, end_time, trimmed_video_path):\n",
    "    video = VideoFileClip(video_file_path).subclip(start_time, end_time)\n",
    "    video.write_videofile(trimmed_video_path, codec=\"libx264\", audio_codec=\"aac\")"
   ]
  },
  {
   "cell_type": "code",
   "execution_count": null,
   "metadata": {},
   "outputs": [],
   "source": [
    "# Path to your MP4 video file\n",
    "video_file_path = '../data/video/VOD_08-12-2022_M__de_i_salen.mp4'\n",
    "# loop over rows in df and trim and save video\n",
    "for index, row in df.iterrows():\n",
    "    # Create filename\n",
    "    filename = f\"{index}_{row['Name']}.mp4\"\n",
    "    # Create path\n",
    "    path = f\"../data/test/clips/video1/{filename}\"\n",
    "    # Trim video\n",
    "    trim_video(video_file_path, row['Start'], row['End'], path)"
   ]
  }
 ],
 "metadata": {
  "language_info": {
   "name": "python"
  }
 },
 "nbformat": 4,
 "nbformat_minor": 2
}
