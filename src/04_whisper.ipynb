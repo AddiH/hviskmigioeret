{
 "cells": [
  {
   "cell_type": "code",
   "execution_count": 1,
   "metadata": {},
   "outputs": [
    {
     "name": "stderr",
     "output_type": "stream",
     "text": [
      "/Users/astrid/Desktop/hviskmigioeret/audio_env/lib/python3.11/site-packages/tqdm/auto.py:21: TqdmWarning: IProgress not found. Please update jupyter and ipywidgets. See https://ipywidgets.readthedocs.io/en/stable/user_install.html\n",
      "  from .autonotebook import tqdm as notebook_tqdm\n"
     ]
    }
   ],
   "source": [
    "import os\n",
    "import sys\n",
    "from tqdm import tqdm\n",
    "import torchaudio\n",
    "import pandas as pd\n",
    "from transformers import WhisperProcessor, WhisperForConditionalGeneration\n",
    "sys.path.append(os.path.join('..', 'utils'))\n",
    "from audio_preprocess import folder_walker"
   ]
  },
  {
   "cell_type": "code",
   "execution_count": 2,
   "metadata": {},
   "outputs": [],
   "source": [
    "model_name = 'whisper-small'\n",
    "\n",
    "load_model = 'openai/' + model_name\n",
    "save_path_model = 'models/' + model_name\n",
    "full_save_path_model = '../data/' + save_path_model\n",
    "\n",
    "# check that the save path exists\n",
    "if not os.path.exists(full_save_path_model):\n",
    "    os.makedirs(full_save_path_model)\n",
    "\n",
    "paths = folder_walker('../data/audio/resampled')"
   ]
  },
  {
   "cell_type": "code",
   "execution_count": 3,
   "metadata": {},
   "outputs": [
    {
     "name": "stderr",
     "output_type": "stream",
     "text": [
      "preprocessor_config.json: 100%|██████████| 185k/185k [00:00<00:00, 92.2MB/s]\n",
      "tokenizer_config.json: 100%|██████████| 805/805 [00:00<00:00, 5.48MB/s]\n",
      "vocab.json: 100%|██████████| 836k/836k [00:00<00:00, 2.25MB/s]\n",
      "tokenizer.json: 100%|██████████| 2.48M/2.48M [00:00<00:00, 12.2MB/s]\n",
      "merges.txt: 100%|██████████| 494k/494k [00:00<00:00, 1.81MB/s]\n",
      "normalizer.json: 100%|██████████| 52.7k/52.7k [00:00<00:00, 73.4MB/s]\n",
      "added_tokens.json: 100%|██████████| 34.6k/34.6k [00:00<00:00, 393kB/s]\n",
      "special_tokens_map.json: 100%|██████████| 2.08k/2.08k [00:00<00:00, 9.19MB/s]\n",
      "config.json: 100%|██████████| 1.97k/1.97k [00:00<00:00, 4.15MB/s]\n",
      "model.safetensors: 100%|██████████| 967M/967M [00:30<00:00, 32.1MB/s] \n",
      "generation_config.json: 100%|██████████| 3.87k/3.87k [00:00<00:00, 7.10MB/s]\n"
     ]
    }
   ],
   "source": [
    "# load model and processor\n",
    "processor = WhisperProcessor.from_pretrained(load_model)\n",
    "model = WhisperForConditionalGeneration.from_pretrained(load_model)\n",
    "model.config.forced_decoder_ids = None"
   ]
  },
  {
   "cell_type": "code",
   "execution_count": 4,
   "metadata": {},
   "outputs": [
    {
     "name": "stderr",
     "output_type": "stream",
     "text": [
      "100%|██████████| 95/95 [07:58<00:00,  5.03s/it]\n"
     ]
    }
   ],
   "source": [
    "for path in tqdm(paths):\n",
    "    # create save path by replacing audio/resampled\n",
    "    save_path = path.replace('audio/resampled', save_path_model)\n",
    "    save_path = save_path.replace('.wav', '.txt')\n",
    "\n",
    "    # if the path already exists, skip\n",
    "    if os.path.exists(save_path):\n",
    "        continue\n",
    "    \n",
    "    # load in audio\n",
    "    waveform, sample_rate = torchaudio.load(path)\n",
    "    waveform_np = waveform.squeeze().numpy()\n",
    "\n",
    "    # load data\n",
    "    input_features = processor(waveform_np, sampling_rate=sample_rate, return_tensors=\"pt\").input_features \n",
    "\n",
    "    # generate token ids\n",
    "    predicted_ids = model.generate(input_features)\n",
    "\n",
    "    # decode token ids to text\n",
    "    result = processor.batch_decode(predicted_ids, skip_special_tokens=True)\n",
    "\n",
    "    # save the string to a file\n",
    "    with open(save_path, 'w') as f:\n",
    "        f.write(result[0])"
   ]
  },
  {
   "cell_type": "code",
   "execution_count": 5,
   "metadata": {},
   "outputs": [],
   "source": [
    "paths = folder_walker(full_save_path_model)\n",
    "\n",
    "# Initialize a list to store the data\n",
    "data = []\n",
    "\n",
    "# Loop through each file path\n",
    "for path in paths:\n",
    "    # Read the content of the file\n",
    "    with open(path, 'r', encoding='utf-8') as file:\n",
    "        content = file.read()\n",
    "        variable_path = path.replace(full_save_path_model + '/', '')\n",
    "        # remove the .txt extension\n",
    "        variable_path = variable_path[:-4]\n",
    "        # Append both the content and the file path to the data list\n",
    "        data.append([content, variable_path])\n",
    "\n",
    "# Create a DataFrame with the data\n",
    "df = pd.DataFrame(data, columns=[model_name, 'file'])\n",
    "\n",
    "# Save the DataFrame as a CSV file\n",
    "df.to_csv('../data/models/' + model_name + '.csv', index=False)\n",
    "\n",
    "# Delete all the paths in the os paths\n",
    "for path in paths:\n",
    "    os.remove(path)\n",
    "\n",
    "os.rmdir(full_save_path_model)"
   ]
  }
 ],
 "metadata": {
  "kernelspec": {
   "display_name": "audio_env",
   "language": "python",
   "name": "audio_env"
  },
  "language_info": {
   "codemirror_mode": {
    "name": "ipython",
    "version": 3
   },
   "file_extension": ".py",
   "mimetype": "text/x-python",
   "name": "python",
   "nbconvert_exporter": "python",
   "pygments_lexer": "ipython3",
   "version": "3.11.6"
  }
 },
 "nbformat": 4,
 "nbformat_minor": 2
}
