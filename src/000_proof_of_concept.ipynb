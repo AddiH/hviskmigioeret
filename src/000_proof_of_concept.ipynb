{
 "cells": [
  {
   "cell_type": "code",
   "execution_count": 1,
   "metadata": {},
   "outputs": [],
   "source": [
    "from moviepy.editor import VideoFileClip\n",
    "from transformers import WhisperProcessor, WhisperForConditionalGeneration\n",
    "import torchaudio\n",
    "import torchaudio.transforms as T\n",
    "import torch\n",
    "import numpy as np\n",
    "from evaluate import load\n",
    "wer = load(\"wer\")"
   ]
  },
  {
   "cell_type": "markdown",
   "metadata": {},
   "source": [
    "# Trimming video"
   ]
  },
  {
   "cell_type": "code",
   "execution_count": 2,
   "metadata": {},
   "outputs": [],
   "source": [
    "def trim_video(video_file_path, start_time, end_time, trimmed_video_path):\n",
    "    video = VideoFileClip(video_file_path).subclip(start_time, end_time)\n",
    "    video.write_videofile(trimmed_video_path, codec=\"libx264\", audio_codec=\"aac\")"
   ]
  },
  {
   "cell_type": "code",
   "execution_count": 3,
   "metadata": {},
   "outputs": [
    {
     "name": "stdout",
     "output_type": "stream",
     "text": [
      "Moviepy - Building video ../data/video/trimmed/snip.mp4.\n",
      "MoviePy - Writing audio in snipTEMP_MPY_wvf_snd.mp4\n"
     ]
    },
    {
     "name": "stderr",
     "output_type": "stream",
     "text": [
      "                                                                    \r"
     ]
    },
    {
     "name": "stdout",
     "output_type": "stream",
     "text": [
      "MoviePy - Done.\n",
      "Moviepy - Writing video ../data/video/trimmed/snip.mp4\n",
      "\n"
     ]
    },
    {
     "name": "stderr",
     "output_type": "stream",
     "text": [
      "                                                               \r"
     ]
    },
    {
     "name": "stdout",
     "output_type": "stream",
     "text": [
      "Moviepy - Done !\n",
      "Moviepy - video ready ../data/video/trimmed/snip.mp4\n"
     ]
    }
   ],
   "source": [
    "# Path to your MP4 video file\n",
    "video_file_path = '../data/video/VOD_08-12-2022_M__de_i_salen.mp4'\n",
    "# Path for the trimmed video\n",
    "trimmed_video_path = '../data/video/trimmed/snip.mp4'\n",
    "# Path to save the extracted audio\n",
    "audio_file_path = '../data/audio/snip.wav'\n",
    "\n",
    "# Time window for trimming (in seconds)\n",
    "start_time = 60 + 47 \n",
    "end_time = 60 + 47 + 29\n",
    "\n",
    "# Trim video\n",
    "trim_video(video_file_path, start_time, end_time, trimmed_video_path)"
   ]
  },
  {
   "cell_type": "markdown",
   "metadata": {},
   "source": [
    "# Extract audio"
   ]
  },
  {
   "cell_type": "code",
   "execution_count": 4,
   "metadata": {},
   "outputs": [
    {
     "name": "stdout",
     "output_type": "stream",
     "text": [
      "MoviePy - Writing audio in ../data/audio/snip.wav\n"
     ]
    },
    {
     "name": "stderr",
     "output_type": "stream",
     "text": [
      "                                                        "
     ]
    },
    {
     "name": "stdout",
     "output_type": "stream",
     "text": [
      "MoviePy - Done.\n"
     ]
    },
    {
     "name": "stderr",
     "output_type": "stream",
     "text": [
      "\r"
     ]
    }
   ],
   "source": [
    "def extract_audio_from_video(video_file_path, audio_file_path):\n",
    "    video = VideoFileClip(video_file_path)\n",
    "    video.audio.write_audiofile(audio_file_path, codec='pcm_s16le')\n",
    "\n",
    "# Extract audio from trimmed video\n",
    "extract_audio_from_video(trimmed_video_path, audio_file_path)"
   ]
  },
  {
   "cell_type": "markdown",
   "metadata": {},
   "source": [
    "# Manipulate audio"
   ]
  },
  {
   "cell_type": "code",
   "execution_count": 5,
   "metadata": {},
   "outputs": [],
   "source": [
    "# load in audio\n",
    "waveform, sample_rate = torchaudio.load(audio_file_path)\n",
    "\n",
    "# Convert stereo audio to mono by averaging the two channels\n",
    "waveform_mono = torch.mean(waveform, dim=0, keepdim=True)\n",
    "\n",
    "# Fix the sample rate\n",
    "resampler = T.Resample(orig_freq=sample_rate, new_freq=16000)\n",
    "waveform_resampled = resampler(waveform_mono)\n",
    "\n",
    "# save the audio\n",
    "torchaudio.save('../data/audio/resampled/snip.wav', waveform_resampled, 16000)\n",
    "\n",
    "# delete variables\n",
    "del waveform, waveform_mono, waveform_resampled, sample_rate, resampler"
   ]
  },
  {
   "cell_type": "markdown",
   "metadata": {},
   "source": [
    "# Transcribe"
   ]
  },
  {
   "cell_type": "code",
   "execution_count": 27,
   "metadata": {},
   "outputs": [],
   "source": [
    "# load in audio\n",
    "waveform, sample_rate = torchaudio.load('../data/audio/resampled/snip.wav')\n",
    "waveform_np = waveform.squeeze().numpy()"
   ]
  },
  {
   "cell_type": "code",
   "execution_count": 28,
   "metadata": {},
   "outputs": [],
   "source": [
    "# load model and processor\n",
    "processor = WhisperProcessor.from_pretrained(\"openai/whisper-tiny\")\n",
    "model = WhisperForConditionalGeneration.from_pretrained(\"openai/whisper-tiny\")\n",
    "model.config.forced_decoder_ids = None\n",
    "\n",
    "# load data\n",
    "input_features = processor(waveform_np, sampling_rate=sample_rate, return_tensors=\"pt\").input_features \n",
    "\n",
    "# generate token ids\n",
    "predicted_ids = model.generate(input_features)\n",
    "\n",
    "# decode token ids to text\n",
    "whisper_tiny = processor.batch_decode(predicted_ids, skip_special_tokens=True)"
   ]
  },
  {
   "cell_type": "code",
   "execution_count": 29,
   "metadata": {},
   "outputs": [
    {
     "data": {
      "text/plain": [
       "[' Tak for det, for åmen. Jeg er det rigtig, det er beslutningst forslade b4, om opfølgelig en provisere i ureformgruppens andefalinger endringer, færdig udvalderer i konnen, så der er det skratskundlade. Og hvis man starter først med EU-reformgruppen, så er det i UFTV i juni 2000er tøb beslutet i Europa-delet og folgetændende og næsset, en ekspertgruppet, skulle klike på, at der er en vi arbejde med EU-sererne, her, hvor det er faktisk i disse måneder,']"
      ]
     },
     "execution_count": 29,
     "metadata": {},
     "output_type": "execute_result"
    }
   ],
   "source": [
    "whisper_tiny"
   ]
  },
  {
   "cell_type": "markdown",
   "metadata": {},
   "source": [
    "# Hviske"
   ]
  },
  {
   "cell_type": "code",
   "execution_count": 30,
   "metadata": {},
   "outputs": [
    {
     "name": "stderr",
     "output_type": "stream",
     "text": [
      "Special tokens have been added in the vocabulary, make sure the associated word embeddings are fine-tuned or trained.\n",
      "Loading checkpoint shards: 100%|██████████| 2/2 [00:12<00:00,  6.32s/it]\n"
     ]
    }
   ],
   "source": [
    "from transformers import AutoProcessor, AutoModelForSpeechSeq2Seq\n",
    "\n",
    "processor = AutoProcessor.from_pretrained(\"mhenrichsen/hviske\")\n",
    "model = AutoModelForSpeechSeq2Seq.from_pretrained(\"mhenrichsen/hviske\")"
   ]
  },
  {
   "cell_type": "code",
   "execution_count": 31,
   "metadata": {},
   "outputs": [],
   "source": [
    "# load data\n",
    "input_features = processor(waveform_np, sampling_rate=sample_rate, return_tensors=\"pt\").input_features \n",
    "\n",
    "# generate token ids\n",
    "predicted_ids = model.generate(input_features)\n",
    "# decode token ids to text\n",
    "hviske = processor.batch_decode(predicted_ids, skip_special_tokens=True)"
   ]
  },
  {
   "cell_type": "code",
   "execution_count": 32,
   "metadata": {},
   "outputs": [
    {
     "data": {
      "text/plain": [
       "['Tak for det formand.Ja, det er rigtigt, det er beslutningsforslag B4 om opfølgningen på visse af euroreformgruppens anbefalinger og ændringer af ferieudvalget og gønlænsudvalgets retsgrundlag.Og hvis man starter først med euroreformgruppen, så er det jo, fordi vi i juni to tusind og tyve besluttede europaudvalget og folketinget, at nedsætte en ekspertgruppe, der skulle kigge på, hvordan vi arbejdede med euro-sagerne, her hvor det faktisk i disse måneder er halvtreds']"
      ]
     },
     "execution_count": 32,
     "metadata": {},
     "output_type": "execute_result"
    }
   ],
   "source": [
    "hviske"
   ]
  },
  {
   "cell_type": "markdown",
   "metadata": {},
   "source": [
    "# Check quality"
   ]
  },
  {
   "cell_type": "code",
   "execution_count": 35,
   "metadata": {},
   "outputs": [],
   "source": [
    "original_transcript = ['Tak for det, formand. Og ja, det er rigtigt, at vi nu behandler beslutningsforslag B 4 om opfølgning på visse af EU-reformgruppens anbefalinger og ændring af Færøudvalgets og Grønlandsudvalgets retsgrundlag. Hvis man starter med EU-reformgruppen, kan man nævne, at vi i Europaudvalget og i Folketinget i juni 2020 besluttede at nedsætte en ekspertgruppe, der skulle kigge på, hvordan vi arbejdede med EU-sagerne.']"
   ]
  },
  {
   "cell_type": "code",
   "execution_count": 36,
   "metadata": {},
   "outputs": [],
   "source": [
    "actual_spoken = ['Tak for det, formand. Og ja, det er rigtigt, det er beslutningsforslag B 4 om opfølgning på visse af EU-reformgruppens anbefalinger og ændring af Færøudvalgets og Grønlandsudvalgets retsgrundlag. Og hvis man starter først med EU-reformgruppen, så er det jo  fordi vi i juni to tusind og tyve besluttede Europaudvalget og Folketinget og nedsætte en ekspertgruppe, der skulle kigge på, hvordan vi arbejdede med EU-sagerne. Her hvor det er faktisk i disse måneder at halv']"
   ]
  },
  {
   "cell_type": "code",
   "execution_count": 37,
   "metadata": {},
   "outputs": [
    {
     "name": "stdout",
     "output_type": "stream",
     "text": [
      "Whisper tiny WER: 98.39\n",
      "Hviske WER:       69.35\n"
     ]
    }
   ],
   "source": [
    "print(f'Whisper tiny WER: {round(100 * wer.compute(references=original_transcript, predictions=whisper_tiny),2)}')\n",
    "print(f'Hviske WER:       {round(100 * wer.compute(references=original_transcript, predictions=hviske),2)}')"
   ]
  },
  {
   "cell_type": "code",
   "execution_count": 38,
   "metadata": {},
   "outputs": [
    {
     "name": "stdout",
     "output_type": "stream",
     "text": [
      "Whisper tiny WER: 66.22\n",
      "Hviske WER:       31.08\n"
     ]
    }
   ],
   "source": [
    "print(f'Whisper tiny WER: {round(100 * wer.compute(references=actual_spoken, predictions=whisper_tiny),2)}')\n",
    "print(f'Hviske WER:       {round(100 * wer.compute(references=actual_spoken, predictions=hviske),2)}')"
   ]
  },
  {
   "cell_type": "code",
   "execution_count": 42,
   "metadata": {},
   "outputs": [
    {
     "name": "stdout",
     "output_type": "stream",
     "text": [
      "Original transcript: ['Tak for det, formand. Og ja, det er rigtigt, at vi nu behandler beslutningsforslag B 4 om opfølgning på visse af EU-reformgruppens anbefalinger og ændring af Færøudvalgets og Grønlandsudvalgets retsgrundlag. Hvis man starter med EU-reformgruppen, kan man nævne, at vi i Europaudvalget og i Folketinget i juni 2020 besluttede at nedsætte en ekspertgruppe, der skulle kigge på, hvordan vi arbejdede med EU-sagerne.']\n",
      "Actual spoken:       ['Tak for det, formand. Og ja, det er rigtigt, det er beslutningsforslag B 4 om opfølgning på visse af EU-reformgruppens anbefalinger og ændring af Færøudvalgets og Grønlandsudvalgets retsgrundlag. Og hvis man starter først med EU-reformgruppen, så er det jo  fordi vi i juni to tusind og tyve besluttede Europaudvalget og Folketinget og nedsætte en ekspertgruppe, der skulle kigge på, hvordan vi arbejdede med EU-sagerne. Her hvor det er faktisk i disse måneder at halv']\n",
      "Hviske:              ['Tak for det formand.Ja, det er rigtigt, det er beslutningsforslag B4 om opfølgningen på visse af euroreformgruppens anbefalinger og ændringer af ferieudvalget og gønlænsudvalgets retsgrundlag.Og hvis man starter først med euroreformgruppen, så er det jo, fordi vi i juni to tusind og tyve besluttede europaudvalget og folketinget, at nedsætte en ekspertgruppe, der skulle kigge på, hvordan vi arbejdede med euro-sagerne, her hvor det faktisk i disse måneder er halvtreds']\n",
      "Whisper tiny:        [' Tak for det, for åmen. Jeg er det rigtig, det er beslutningst forslade b4, om opfølgelig en provisere i ureformgruppens andefalinger endringer, færdig udvalderer i konnen, så der er det skratskundlade. Og hvis man starter først med EU-reformgruppen, så er det i UFTV i juni 2000er tøb beslutet i Europa-delet og folgetændende og næsset, en ekspertgruppet, skulle klike på, at der er en vi arbejde med EU-sererne, her, hvor det er faktisk i disse måneder,']\n"
     ]
    }
   ],
   "source": [
    "print(f'Original transcript: {original_transcript}')\n",
    "print(f'Actual spoken:       {actual_spoken}')\n",
    "print(f'Hviske:              {hviske}')\n",
    "print(f'Whisper tiny:        {whisper_tiny}')"
   ]
  },
  {
   "cell_type": "code",
   "execution_count": null,
   "metadata": {},
   "outputs": [],
   "source": []
  }
 ],
 "metadata": {
  "kernelspec": {
   "display_name": "audio_env",
   "language": "python",
   "name": "audio_env"
  },
  "language_info": {
   "codemirror_mode": {
    "name": "ipython",
    "version": 3
   },
   "file_extension": ".py",
   "mimetype": "text/x-python",
   "name": "python",
   "nbconvert_exporter": "python",
   "pygments_lexer": "ipython3",
   "version": "3.11.6"
  }
 },
 "nbformat": 4,
 "nbformat_minor": 2
}
