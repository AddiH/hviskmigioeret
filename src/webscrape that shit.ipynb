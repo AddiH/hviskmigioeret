{
 "cells": [
  {
   "cell_type": "markdown",
   "metadata": {},
   "source": [
    "https://www.ft.dk/aktuelt/webtv/video/20222/salen/5.aspx?from=28-11-2022&to=19-12-2022&selectedMeetingType=Salen&committee=&as=1#player\n"
   ]
  },
  {
   "cell_type": "code",
   "execution_count": 1,
   "metadata": {},
   "outputs": [],
   "source": [
    "import requests # Downloading webpages\n",
    "from bs4 import BeautifulSoup # Extracting data from html files\n",
    "import json\n",
    "import pandas as pd\n",
    "import re\n",
    "from datetime import datetime\n",
    "from moviepy.editor import VideoFileClip"
   ]
  },
  {
   "cell_type": "code",
   "execution_count": 2,
   "metadata": {},
   "outputs": [],
   "source": [
    "url = \"https://www.ft.dk/aktuelt/webtv/video/20222/salen/5.aspx?from=28-11-2022&to=19-12-2022&selectedMeetingType=Salen&committee=&as=1#player\"\n",
    "req = requests.get(url) # get the page"
   ]
  },
  {
   "cell_type": "code",
   "execution_count": 60,
   "metadata": {},
   "outputs": [],
   "source": [
    "soup = BeautifulSoup(req.text, 'html.parser')\n",
    "\n",
    "# Initialize lists to store the extracted data\n",
    "names = []\n",
    "texts = []\n",
    "numbers = []\n",
    "\n",
    "# Find all divs with class 'video-item-referat'\n",
    "for div in soup.find_all(\"div\", class_=\"video-item-referat\"):\n",
    "    # Extract name\n",
    "    name_div = div.find(\"div\", class_=\"name\")\n",
    "    name = name_div.get_text(strip=True)\n",
    "    # Remove everything within parentheses and parentheses themselves\n",
    "    name = re.sub(r'\\([^)]*\\)', '', name)\n",
    "    # Remove \"Formanden\"\n",
    "    name = name.replace(\"Formanden\", \"\")\n",
    "    # Remove whitespace at beginning and end\n",
    "    name = name.strip()\n",
    "    # Replace ø with oe\n",
    "    name = name.replace(\"ø\", \"oe\")\n",
    "\n",
    "    # Extract texts from all <p> with class 'Tekst' and 'TekstIndryk'\n",
    "    text_elements = div.find_all(\"p\", class_=[\"Tekst\", \"TekstIndryk\"])\n",
    "    combined_text = ' '.join(p.get_text(strip=True) for p in text_elements)\n",
    "\n",
    "    # Extract number (from id of 'video-item-content')\n",
    "    content_div = div.find(\"div\", class_=\"video-item-content\")\n",
    "    number = content_div['id'].split('_')[-1] if content_div and 'id' in content_div.attrs else 'N/A'\n",
    "\n",
    "    # Append to lists\n",
    "    names.append(name)\n",
    "    texts.append(combined_text)\n",
    "    numbers.append(number)\n",
    "\n",
    "# Create DataFrame\n",
    "df = pd.DataFrame({\n",
    "    'Name': names,\n",
    "    'Text': texts,\n",
    "    'ID': numbers\n",
    "})\n",
    "\n",
    "# Remove rows that contain 'N/A'\n",
    "df = df[df.ID != 'N/A']"
   ]
  },
  {
   "cell_type": "code",
   "execution_count": 61,
   "metadata": {},
   "outputs": [
    {
     "data": {
      "text/html": [
       "<div>\n",
       "<style scoped>\n",
       "    .dataframe tbody tr th:only-of-type {\n",
       "        vertical-align: middle;\n",
       "    }\n",
       "\n",
       "    .dataframe tbody tr th {\n",
       "        vertical-align: top;\n",
       "    }\n",
       "\n",
       "    .dataframe thead th {\n",
       "        text-align: right;\n",
       "    }\n",
       "</style>\n",
       "<table border=\"1\" class=\"dataframe\">\n",
       "  <thead>\n",
       "    <tr style=\"text-align: right;\">\n",
       "      <th></th>\n",
       "      <th>Name</th>\n",
       "      <th>Text</th>\n",
       "      <th>ID</th>\n",
       "    </tr>\n",
       "  </thead>\n",
       "  <tbody>\n",
       "    <tr>\n",
       "      <th>0</th>\n",
       "      <td>Soeren Gade</td>\n",
       "      <td>Der er som bekendt ingen minister på dette omr...</td>\n",
       "      <td>912053</td>\n",
       "    </tr>\n",
       "    <tr>\n",
       "      <th>1</th>\n",
       "      <td>Jens Joel</td>\n",
       "      <td>Tak for det, formand. Og ja, det er rigtigt, a...</td>\n",
       "      <td>912064</td>\n",
       "    </tr>\n",
       "    <tr>\n",
       "      <th>2</th>\n",
       "      <td>Soeren Gade</td>\n",
       "      <td>Tak for det. Der er ikke nogen, der har bedt o...</td>\n",
       "      <td>912075</td>\n",
       "    </tr>\n",
       "    <tr>\n",
       "      <th>3</th>\n",
       "      <td>Thomas Danielsen</td>\n",
       "      <td>Tak for det, formand. Venstre bifalder EU-refo...</td>\n",
       "      <td>912078</td>\n",
       "    </tr>\n",
       "    <tr>\n",
       "      <th>4</th>\n",
       "      <td>Soeren Gade</td>\n",
       "      <td>Tak for det. Der er ikke nogen, der har bedt o...</td>\n",
       "      <td>912079</td>\n",
       "    </tr>\n",
       "  </tbody>\n",
       "</table>\n",
       "</div>"
      ],
      "text/plain": [
       "               Name                                               Text      ID\n",
       "0       Soeren Gade  Der er som bekendt ingen minister på dette omr...  912053\n",
       "1         Jens Joel  Tak for det, formand. Og ja, det er rigtigt, a...  912064\n",
       "2       Soeren Gade  Tak for det. Der er ikke nogen, der har bedt o...  912075\n",
       "3  Thomas Danielsen  Tak for det, formand. Venstre bifalder EU-refo...  912078\n",
       "4       Soeren Gade  Tak for det. Der er ikke nogen, der har bedt o...  912079"
      ]
     },
     "execution_count": 61,
     "metadata": {},
     "output_type": "execute_result"
    }
   ],
   "source": [
    "df.head()"
   ]
  },
  {
   "cell_type": "code",
   "execution_count": 62,
   "metadata": {},
   "outputs": [],
   "source": [
    "script_tag = soup.find('script', text=re.compile('SpeachItem'))\n",
    "# Extract all instances of SpeachItem\n",
    "speach_items = re.findall(r'new SpeachItem\\(.*\\)', script_tag.string)\n",
    "# Remove 'new SpeachItem'\n",
    "speach_items = [re.sub(r'new SpeachItem', '', item) for item in speach_items]"
   ]
  },
  {
   "cell_type": "code",
   "execution_count": 63,
   "metadata": {},
   "outputs": [],
   "source": [
    "# loop over speach_items and extract the data\n",
    "start_times = []\n",
    "end_times = []\n",
    "start_times_clock = []\n",
    "end_times_clock = []\n",
    "numbers = []\n",
    "\n",
    "video_start_clock = \"09:59:41\"\n",
    "video_start_clock_datetime = datetime.strptime(video_start_clock, '%H:%M:%S')\n",
    "\n",
    "for item in speach_items:\n",
    "    speach_start_clock = item[19:27]\n",
    "    speach_end_clock = item[41:49]\n",
    "\n",
    "    # Convert to datetime\n",
    "    speach_start_clock_datetime = datetime.strptime(speach_start_clock, '%H:%M:%S')\n",
    "    speach_end_clock_datetime = datetime.strptime(speach_end_clock, '%H:%M:%S')\n",
    "\n",
    "    # Calculate the timedelta (difference) from the video start\n",
    "    speach_start_timestamp = (speach_start_clock_datetime - video_start_clock_datetime).total_seconds()\n",
    "    speach_end_timestamp = (speach_end_clock_datetime - video_start_clock_datetime).total_seconds()\n",
    "\n",
    "    # Append the original times and calculated seconds\n",
    "    start_times_clock.append(speach_start_clock)\n",
    "    end_times_clock.append(speach_end_clock)\n",
    "    start_times.append(speach_start_timestamp)\n",
    "    end_times.append(speach_end_timestamp)\n",
    "    numbers.append(item[58:-2])\n",
    "\n",
    "# Create DataFrame\n",
    "time_stamps = pd.DataFrame({\n",
    "    'Start': start_times,\n",
    "    'End': end_times,\n",
    "    'StartClock': start_times_clock,\n",
    "    'EndClock': end_times_clock,\n",
    "    'ID': numbers\n",
    "})\n",
    "\n"
   ]
  },
  {
   "cell_type": "code",
   "execution_count": 64,
   "metadata": {},
   "outputs": [
    {
     "data": {
      "text/html": [
       "<div>\n",
       "<style scoped>\n",
       "    .dataframe tbody tr th:only-of-type {\n",
       "        vertical-align: middle;\n",
       "    }\n",
       "\n",
       "    .dataframe tbody tr th {\n",
       "        vertical-align: top;\n",
       "    }\n",
       "\n",
       "    .dataframe thead th {\n",
       "        text-align: right;\n",
       "    }\n",
       "</style>\n",
       "<table border=\"1\" class=\"dataframe\">\n",
       "  <thead>\n",
       "    <tr style=\"text-align: right;\">\n",
       "      <th></th>\n",
       "      <th>Start</th>\n",
       "      <th>End</th>\n",
       "      <th>StartClock</th>\n",
       "      <th>EndClock</th>\n",
       "      <th>ID</th>\n",
       "    </tr>\n",
       "  </thead>\n",
       "  <tbody>\n",
       "    <tr>\n",
       "      <th>0</th>\n",
       "      <td>70.0</td>\n",
       "      <td>107.0</td>\n",
       "      <td>10:00:51</td>\n",
       "      <td>10:01:28</td>\n",
       "      <td>912053</td>\n",
       "    </tr>\n",
       "    <tr>\n",
       "      <th>1</th>\n",
       "      <td>107.0</td>\n",
       "      <td>420.0</td>\n",
       "      <td>10:01:28</td>\n",
       "      <td>10:06:41</td>\n",
       "      <td>912064</td>\n",
       "    </tr>\n",
       "    <tr>\n",
       "      <th>2</th>\n",
       "      <td>420.0</td>\n",
       "      <td>428.0</td>\n",
       "      <td>10:06:41</td>\n",
       "      <td>10:06:49</td>\n",
       "      <td>912075</td>\n",
       "    </tr>\n",
       "    <tr>\n",
       "      <th>3</th>\n",
       "      <td>428.0</td>\n",
       "      <td>464.0</td>\n",
       "      <td>10:06:49</td>\n",
       "      <td>10:07:25</td>\n",
       "      <td>912078</td>\n",
       "    </tr>\n",
       "    <tr>\n",
       "      <th>4</th>\n",
       "      <td>464.0</td>\n",
       "      <td>475.0</td>\n",
       "      <td>10:07:25</td>\n",
       "      <td>10:07:36</td>\n",
       "      <td>912079</td>\n",
       "    </tr>\n",
       "  </tbody>\n",
       "</table>\n",
       "</div>"
      ],
      "text/plain": [
       "   Start    End StartClock  EndClock      ID\n",
       "0   70.0  107.0   10:00:51  10:01:28  912053\n",
       "1  107.0  420.0   10:01:28  10:06:41  912064\n",
       "2  420.0  428.0   10:06:41  10:06:49  912075\n",
       "3  428.0  464.0   10:06:49  10:07:25  912078\n",
       "4  464.0  475.0   10:07:25  10:07:36  912079"
      ]
     },
     "execution_count": 64,
     "metadata": {},
     "output_type": "execute_result"
    }
   ],
   "source": [
    "time_stamps.head()"
   ]
  },
  {
   "cell_type": "code",
   "execution_count": 65,
   "metadata": {},
   "outputs": [],
   "source": [
    "#combine the two dataframes on the number column\n",
    "df = pd.merge(df, time_stamps, on='ID')\n",
    "# drop the number column\n",
    "df = df.drop(columns=['ID'])"
   ]
  },
  {
   "cell_type": "code",
   "execution_count": 66,
   "metadata": {},
   "outputs": [],
   "source": [
    "# Save to csv\n",
    "df.to_csv('speeches.csv', index=False)"
   ]
  },
  {
   "cell_type": "code",
   "execution_count": 67,
   "metadata": {},
   "outputs": [
    {
     "data": {
      "text/html": [
       "<div>\n",
       "<style scoped>\n",
       "    .dataframe tbody tr th:only-of-type {\n",
       "        vertical-align: middle;\n",
       "    }\n",
       "\n",
       "    .dataframe tbody tr th {\n",
       "        vertical-align: top;\n",
       "    }\n",
       "\n",
       "    .dataframe thead th {\n",
       "        text-align: right;\n",
       "    }\n",
       "</style>\n",
       "<table border=\"1\" class=\"dataframe\">\n",
       "  <thead>\n",
       "    <tr style=\"text-align: right;\">\n",
       "      <th></th>\n",
       "      <th>Name</th>\n",
       "      <th>Text</th>\n",
       "      <th>Start</th>\n",
       "      <th>End</th>\n",
       "      <th>StartClock</th>\n",
       "      <th>EndClock</th>\n",
       "    </tr>\n",
       "  </thead>\n",
       "  <tbody>\n",
       "    <tr>\n",
       "      <th>0</th>\n",
       "      <td>Soeren Gade</td>\n",
       "      <td>Der er som bekendt ingen minister på dette omr...</td>\n",
       "      <td>70.0</td>\n",
       "      <td>107.0</td>\n",
       "      <td>10:00:51</td>\n",
       "      <td>10:01:28</td>\n",
       "    </tr>\n",
       "    <tr>\n",
       "      <th>1</th>\n",
       "      <td>Jens Joel</td>\n",
       "      <td>Tak for det, formand. Og ja, det er rigtigt, a...</td>\n",
       "      <td>107.0</td>\n",
       "      <td>420.0</td>\n",
       "      <td>10:01:28</td>\n",
       "      <td>10:06:41</td>\n",
       "    </tr>\n",
       "    <tr>\n",
       "      <th>2</th>\n",
       "      <td>Soeren Gade</td>\n",
       "      <td>Tak for det. Der er ikke nogen, der har bedt o...</td>\n",
       "      <td>420.0</td>\n",
       "      <td>428.0</td>\n",
       "      <td>10:06:41</td>\n",
       "      <td>10:06:49</td>\n",
       "    </tr>\n",
       "    <tr>\n",
       "      <th>3</th>\n",
       "      <td>Thomas Danielsen</td>\n",
       "      <td>Tak for det, formand. Venstre bifalder EU-refo...</td>\n",
       "      <td>428.0</td>\n",
       "      <td>464.0</td>\n",
       "      <td>10:06:49</td>\n",
       "      <td>10:07:25</td>\n",
       "    </tr>\n",
       "    <tr>\n",
       "      <th>4</th>\n",
       "      <td>Soeren Gade</td>\n",
       "      <td>Tak for det. Der er ikke nogen, der har bedt o...</td>\n",
       "      <td>464.0</td>\n",
       "      <td>475.0</td>\n",
       "      <td>10:07:25</td>\n",
       "      <td>10:07:36</td>\n",
       "    </tr>\n",
       "    <tr>\n",
       "      <th>5</th>\n",
       "      <td>Henrik Frandsen</td>\n",
       "      <td>Mange tak, hr. formand. Jeg vil gerne starte m...</td>\n",
       "      <td>475.0</td>\n",
       "      <td>574.0</td>\n",
       "      <td>10:07:36</td>\n",
       "      <td>10:09:15</td>\n",
       "    </tr>\n",
       "    <tr>\n",
       "      <th>6</th>\n",
       "      <td>Soeren Gade</td>\n",
       "      <td>Tak for det. Der er ikke nogen, der har bedt o...</td>\n",
       "      <td>574.0</td>\n",
       "      <td>589.0</td>\n",
       "      <td>10:09:15</td>\n",
       "      <td>10:09:30</td>\n",
       "    </tr>\n",
       "    <tr>\n",
       "      <th>7</th>\n",
       "      <td>Karina Lorentzen Dehnhardt</td>\n",
       "      <td>Det her er jo et af de forslag, som der, efter...</td>\n",
       "      <td>589.0</td>\n",
       "      <td>628.0</td>\n",
       "      <td>10:09:30</td>\n",
       "      <td>10:10:09</td>\n",
       "    </tr>\n",
       "    <tr>\n",
       "      <th>8</th>\n",
       "      <td>Soeren Gade</td>\n",
       "      <td>Tak for det. Der er ikke nogen, der har bedt o...</td>\n",
       "      <td>628.0</td>\n",
       "      <td>646.0</td>\n",
       "      <td>10:10:09</td>\n",
       "      <td>10:10:27</td>\n",
       "    </tr>\n",
       "    <tr>\n",
       "      <th>9</th>\n",
       "      <td>Peter Skaarup</td>\n",
       "      <td>Jeg skal også på Danmarksdemokraternes vegne t...</td>\n",
       "      <td>646.0</td>\n",
       "      <td>705.0</td>\n",
       "      <td>10:10:27</td>\n",
       "      <td>10:11:26</td>\n",
       "    </tr>\n",
       "    <tr>\n",
       "      <th>10</th>\n",
       "      <td>Soeren Gade</td>\n",
       "      <td>Tak for det. Der er ikke nogen, der har bedt o...</td>\n",
       "      <td>705.0</td>\n",
       "      <td>715.0</td>\n",
       "      <td>10:11:26</td>\n",
       "      <td>10:11:36</td>\n",
       "    </tr>\n",
       "    <tr>\n",
       "      <th>11</th>\n",
       "      <td>Ole Birk Olesen</td>\n",
       "      <td>Tak for det. Liberal Alliance stemmer jo for b...</td>\n",
       "      <td>715.0</td>\n",
       "      <td>767.0</td>\n",
       "      <td>10:11:36</td>\n",
       "      <td>10:12:28</td>\n",
       "    </tr>\n",
       "    <tr>\n",
       "      <th>12</th>\n",
       "      <td>Soeren Gade</td>\n",
       "      <td>Tak for det. Vi siger tak til ordføreren og gå...</td>\n",
       "      <td>767.0</td>\n",
       "      <td>775.0</td>\n",
       "      <td>10:12:28</td>\n",
       "      <td>10:12:36</td>\n",
       "    </tr>\n",
       "    <tr>\n",
       "      <th>13</th>\n",
       "      <td>Mai Mercado</td>\n",
       "      <td>Tak, formand. Fra Det Konservative Folkeparti ...</td>\n",
       "      <td>775.0</td>\n",
       "      <td>885.0</td>\n",
       "      <td>10:12:36</td>\n",
       "      <td>10:14:26</td>\n",
       "    </tr>\n",
       "    <tr>\n",
       "      <th>14</th>\n",
       "      <td>Soeren Gade</td>\n",
       "      <td>Tak for det. Vi siger tak til ordføreren og gå...</td>\n",
       "      <td>885.0</td>\n",
       "      <td>892.0</td>\n",
       "      <td>10:14:26</td>\n",
       "      <td>10:14:33</td>\n",
       "    </tr>\n",
       "    <tr>\n",
       "      <th>15</th>\n",
       "      <td>Peder Hvelplund</td>\n",
       "      <td>Tak for det, formand. Nu havde jeg egentlig tæ...</td>\n",
       "      <td>892.0</td>\n",
       "      <td>1039.0</td>\n",
       "      <td>10:14:33</td>\n",
       "      <td>10:17:00</td>\n",
       "    </tr>\n",
       "    <tr>\n",
       "      <th>16</th>\n",
       "      <td>Soeren Gade</td>\n",
       "      <td>Der er ikke nogen, der har bedt om ordet, så v...</td>\n",
       "      <td>1039.0</td>\n",
       "      <td>1046.0</td>\n",
       "      <td>10:17:00</td>\n",
       "      <td>10:17:07</td>\n",
       "    </tr>\n",
       "    <tr>\n",
       "      <th>17</th>\n",
       "      <td>Theresa Scavenius</td>\n",
       "      <td>Vi støtter selvfølgelig også forslaget. Jeg vi...</td>\n",
       "      <td>1046.0</td>\n",
       "      <td>1223.0</td>\n",
       "      <td>10:17:07</td>\n",
       "      <td>10:20:04</td>\n",
       "    </tr>\n",
       "    <tr>\n",
       "      <th>18</th>\n",
       "      <td>Soeren Gade</td>\n",
       "      <td>Tak for det. Hr. Kim Valentin har bedt om ordet.</td>\n",
       "      <td>1223.0</td>\n",
       "      <td>1226.0</td>\n",
       "      <td>10:20:04</td>\n",
       "      <td>10:20:07</td>\n",
       "    </tr>\n",
       "    <tr>\n",
       "      <th>19</th>\n",
       "      <td>Kim Valentin</td>\n",
       "      <td>Tak for det. Nu er den dagsorden i Europaudval...</td>\n",
       "      <td>1226.0</td>\n",
       "      <td>1247.0</td>\n",
       "      <td>10:20:07</td>\n",
       "      <td>10:20:28</td>\n",
       "    </tr>\n",
       "    <tr>\n",
       "      <th>20</th>\n",
       "      <td>Soeren Gade</td>\n",
       "      <td>Ordføreren.</td>\n",
       "      <td>1247.0</td>\n",
       "      <td>1248.0</td>\n",
       "      <td>10:20:28</td>\n",
       "      <td>10:20:29</td>\n",
       "    </tr>\n",
       "    <tr>\n",
       "      <th>21</th>\n",
       "      <td>Theresa Scavenius</td>\n",
       "      <td>Jeg mener, vi bliver nødt til at forstå, at de...</td>\n",
       "      <td>1248.0</td>\n",
       "      <td>1274.0</td>\n",
       "      <td>10:20:29</td>\n",
       "      <td>10:20:55</td>\n",
       "    </tr>\n",
       "    <tr>\n",
       "      <th>22</th>\n",
       "      <td>Soeren Gade</td>\n",
       "      <td>Hr. Kim Valentin.</td>\n",
       "      <td>1274.0</td>\n",
       "      <td>1276.0</td>\n",
       "      <td>10:20:55</td>\n",
       "      <td>10:20:57</td>\n",
       "    </tr>\n",
       "    <tr>\n",
       "      <th>23</th>\n",
       "      <td>Kim Valentin</td>\n",
       "      <td>Ja, det her hører jo netop ind under noget, so...</td>\n",
       "      <td>1276.0</td>\n",
       "      <td>1302.0</td>\n",
       "      <td>10:20:57</td>\n",
       "      <td>10:21:23</td>\n",
       "    </tr>\n",
       "    <tr>\n",
       "      <th>24</th>\n",
       "      <td>Soeren Gade</td>\n",
       "      <td>Ordføreren.</td>\n",
       "      <td>1302.0</td>\n",
       "      <td>1305.0</td>\n",
       "      <td>10:21:23</td>\n",
       "      <td>10:21:26</td>\n",
       "    </tr>\n",
       "    <tr>\n",
       "      <th>25</th>\n",
       "      <td>Theresa Scavenius</td>\n",
       "      <td>Jamen det kan vi da sikkert også, men det er j...</td>\n",
       "      <td>1305.0</td>\n",
       "      <td>1344.0</td>\n",
       "      <td>10:21:26</td>\n",
       "      <td>10:22:05</td>\n",
       "    </tr>\n",
       "    <tr>\n",
       "      <th>26</th>\n",
       "      <td>Soeren Gade</td>\n",
       "      <td>Tak for det. Der er ikke andre, der har bedt o...</td>\n",
       "      <td>1344.0</td>\n",
       "      <td>1375.0</td>\n",
       "      <td>10:22:05</td>\n",
       "      <td>10:22:36</td>\n",
       "    </tr>\n",
       "    <tr>\n",
       "      <th>27</th>\n",
       "      <td>Alex Ahrendtsen</td>\n",
       "      <td>Tak, formand. Det er min fjerde periode i Folk...</td>\n",
       "      <td>1375.0</td>\n",
       "      <td>1534.0</td>\n",
       "      <td>10:22:36</td>\n",
       "      <td>10:25:15</td>\n",
       "    </tr>\n",
       "    <tr>\n",
       "      <th>28</th>\n",
       "      <td>Soeren Gade</td>\n",
       "      <td>Tak for det. Hr. Kim Valentin har bedt om orde...</td>\n",
       "      <td>1534.0</td>\n",
       "      <td>1539.0</td>\n",
       "      <td>10:25:15</td>\n",
       "      <td>10:25:20</td>\n",
       "    </tr>\n",
       "    <tr>\n",
       "      <th>29</th>\n",
       "      <td>Kim Valentin</td>\n",
       "      <td>Tak. Hr. Alex Ahrendtsen og jeg har ofte samta...</td>\n",
       "      <td>1539.0</td>\n",
       "      <td>1577.0</td>\n",
       "      <td>10:25:20</td>\n",
       "      <td>10:25:58</td>\n",
       "    </tr>\n",
       "    <tr>\n",
       "      <th>30</th>\n",
       "      <td>Soeren Gade</td>\n",
       "      <td>Ordføreren.</td>\n",
       "      <td>1577.0</td>\n",
       "      <td>1579.0</td>\n",
       "      <td>10:25:58</td>\n",
       "      <td>10:26:00</td>\n",
       "    </tr>\n",
       "    <tr>\n",
       "      <th>31</th>\n",
       "      <td>Alex Ahrendtsen</td>\n",
       "      <td>Det kunne være, hvis vi havde formaliseret det...</td>\n",
       "      <td>1579.0</td>\n",
       "      <td>1595.0</td>\n",
       "      <td>10:26:00</td>\n",
       "      <td>10:26:16</td>\n",
       "    </tr>\n",
       "    <tr>\n",
       "      <th>32</th>\n",
       "      <td>Soeren Gade</td>\n",
       "      <td>Hr. Kim Valentin.</td>\n",
       "      <td>1595.0</td>\n",
       "      <td>1597.0</td>\n",
       "      <td>10:26:16</td>\n",
       "      <td>10:26:18</td>\n",
       "    </tr>\n",
       "    <tr>\n",
       "      <th>33</th>\n",
       "      <td>Kim Valentin</td>\n",
       "      <td>Jo, men nu er det jo en førstebehandling. Så a...</td>\n",
       "      <td>1597.0</td>\n",
       "      <td>1611.0</td>\n",
       "      <td>10:26:18</td>\n",
       "      <td>10:26:32</td>\n",
       "    </tr>\n",
       "    <tr>\n",
       "      <th>34</th>\n",
       "      <td>Soeren Gade</td>\n",
       "      <td>Ordføreren.</td>\n",
       "      <td>1611.0</td>\n",
       "      <td>1612.0</td>\n",
       "      <td>10:26:32</td>\n",
       "      <td>10:26:33</td>\n",
       "    </tr>\n",
       "    <tr>\n",
       "      <th>35</th>\n",
       "      <td>Alex Ahrendtsen</td>\n",
       "      <td>Reformgruppen havde foreslået en frist på 8 ug...</td>\n",
       "      <td>1612.0</td>\n",
       "      <td>1621.0</td>\n",
       "      <td>10:26:33</td>\n",
       "      <td>10:26:42</td>\n",
       "    </tr>\n",
       "    <tr>\n",
       "      <th>36</th>\n",
       "      <td>Soeren Gade</td>\n",
       "      <td>Hr. Thomas Danielsen, Venstre.</td>\n",
       "      <td>1621.0</td>\n",
       "      <td>1626.0</td>\n",
       "      <td>10:26:42</td>\n",
       "      <td>10:26:47</td>\n",
       "    </tr>\n",
       "    <tr>\n",
       "      <th>37</th>\n",
       "      <td>Thomas Danielsen</td>\n",
       "      <td>Tak for det. Altså, vi deler jo mange af de be...</td>\n",
       "      <td>1626.0</td>\n",
       "      <td>1655.0</td>\n",
       "      <td>10:26:47</td>\n",
       "      <td>10:27:16</td>\n",
       "    </tr>\n",
       "    <tr>\n",
       "      <th>38</th>\n",
       "      <td>Soeren Gade</td>\n",
       "      <td>Ordføreren.</td>\n",
       "      <td>1655.0</td>\n",
       "      <td>1656.0</td>\n",
       "      <td>10:27:16</td>\n",
       "      <td>10:27:17</td>\n",
       "    </tr>\n",
       "    <tr>\n",
       "      <th>39</th>\n",
       "      <td>Alex Ahrendtsen</td>\n",
       "      <td>Vi så egentlig gerne, at vi fulgte reformgrupp...</td>\n",
       "      <td>1656.0</td>\n",
       "      <td>1701.0</td>\n",
       "      <td>10:27:17</td>\n",
       "      <td>10:28:02</td>\n",
       "    </tr>\n",
       "    <tr>\n",
       "      <th>40</th>\n",
       "      <td>Soeren Gade</td>\n",
       "      <td>Tak for det. Der er ikke andre, der har bedt o...</td>\n",
       "      <td>1701.0</td>\n",
       "      <td>1720.0</td>\n",
       "      <td>10:28:02</td>\n",
       "      <td>10:28:21</td>\n",
       "    </tr>\n",
       "  </tbody>\n",
       "</table>\n",
       "</div>"
      ],
      "text/plain": [
       "                          Name  \\\n",
       "0                  Soeren Gade   \n",
       "1                    Jens Joel   \n",
       "2                  Soeren Gade   \n",
       "3             Thomas Danielsen   \n",
       "4                  Soeren Gade   \n",
       "5              Henrik Frandsen   \n",
       "6                  Soeren Gade   \n",
       "7   Karina Lorentzen Dehnhardt   \n",
       "8                  Soeren Gade   \n",
       "9                Peter Skaarup   \n",
       "10                 Soeren Gade   \n",
       "11             Ole Birk Olesen   \n",
       "12                 Soeren Gade   \n",
       "13                 Mai Mercado   \n",
       "14                 Soeren Gade   \n",
       "15             Peder Hvelplund   \n",
       "16                 Soeren Gade   \n",
       "17           Theresa Scavenius   \n",
       "18                 Soeren Gade   \n",
       "19                Kim Valentin   \n",
       "20                 Soeren Gade   \n",
       "21           Theresa Scavenius   \n",
       "22                 Soeren Gade   \n",
       "23                Kim Valentin   \n",
       "24                 Soeren Gade   \n",
       "25           Theresa Scavenius   \n",
       "26                 Soeren Gade   \n",
       "27             Alex Ahrendtsen   \n",
       "28                 Soeren Gade   \n",
       "29                Kim Valentin   \n",
       "30                 Soeren Gade   \n",
       "31             Alex Ahrendtsen   \n",
       "32                 Soeren Gade   \n",
       "33                Kim Valentin   \n",
       "34                 Soeren Gade   \n",
       "35             Alex Ahrendtsen   \n",
       "36                 Soeren Gade   \n",
       "37            Thomas Danielsen   \n",
       "38                 Soeren Gade   \n",
       "39             Alex Ahrendtsen   \n",
       "40                 Soeren Gade   \n",
       "\n",
       "                                                 Text   Start     End  \\\n",
       "0   Der er som bekendt ingen minister på dette omr...    70.0   107.0   \n",
       "1   Tak for det, formand. Og ja, det er rigtigt, a...   107.0   420.0   \n",
       "2   Tak for det. Der er ikke nogen, der har bedt o...   420.0   428.0   \n",
       "3   Tak for det, formand. Venstre bifalder EU-refo...   428.0   464.0   \n",
       "4   Tak for det. Der er ikke nogen, der har bedt o...   464.0   475.0   \n",
       "5   Mange tak, hr. formand. Jeg vil gerne starte m...   475.0   574.0   \n",
       "6   Tak for det. Der er ikke nogen, der har bedt o...   574.0   589.0   \n",
       "7   Det her er jo et af de forslag, som der, efter...   589.0   628.0   \n",
       "8   Tak for det. Der er ikke nogen, der har bedt o...   628.0   646.0   \n",
       "9   Jeg skal også på Danmarksdemokraternes vegne t...   646.0   705.0   \n",
       "10  Tak for det. Der er ikke nogen, der har bedt o...   705.0   715.0   \n",
       "11  Tak for det. Liberal Alliance stemmer jo for b...   715.0   767.0   \n",
       "12  Tak for det. Vi siger tak til ordføreren og gå...   767.0   775.0   \n",
       "13  Tak, formand. Fra Det Konservative Folkeparti ...   775.0   885.0   \n",
       "14  Tak for det. Vi siger tak til ordføreren og gå...   885.0   892.0   \n",
       "15  Tak for det, formand. Nu havde jeg egentlig tæ...   892.0  1039.0   \n",
       "16  Der er ikke nogen, der har bedt om ordet, så v...  1039.0  1046.0   \n",
       "17  Vi støtter selvfølgelig også forslaget. Jeg vi...  1046.0  1223.0   \n",
       "18   Tak for det. Hr. Kim Valentin har bedt om ordet.  1223.0  1226.0   \n",
       "19  Tak for det. Nu er den dagsorden i Europaudval...  1226.0  1247.0   \n",
       "20                                        Ordføreren.  1247.0  1248.0   \n",
       "21  Jeg mener, vi bliver nødt til at forstå, at de...  1248.0  1274.0   \n",
       "22                                  Hr. Kim Valentin.  1274.0  1276.0   \n",
       "23  Ja, det her hører jo netop ind under noget, so...  1276.0  1302.0   \n",
       "24                                        Ordføreren.  1302.0  1305.0   \n",
       "25  Jamen det kan vi da sikkert også, men det er j...  1305.0  1344.0   \n",
       "26  Tak for det. Der er ikke andre, der har bedt o...  1344.0  1375.0   \n",
       "27  Tak, formand. Det er min fjerde periode i Folk...  1375.0  1534.0   \n",
       "28  Tak for det. Hr. Kim Valentin har bedt om orde...  1534.0  1539.0   \n",
       "29  Tak. Hr. Alex Ahrendtsen og jeg har ofte samta...  1539.0  1577.0   \n",
       "30                                        Ordføreren.  1577.0  1579.0   \n",
       "31  Det kunne være, hvis vi havde formaliseret det...  1579.0  1595.0   \n",
       "32                                  Hr. Kim Valentin.  1595.0  1597.0   \n",
       "33  Jo, men nu er det jo en førstebehandling. Så a...  1597.0  1611.0   \n",
       "34                                        Ordføreren.  1611.0  1612.0   \n",
       "35  Reformgruppen havde foreslået en frist på 8 ug...  1612.0  1621.0   \n",
       "36                     Hr. Thomas Danielsen, Venstre.  1621.0  1626.0   \n",
       "37  Tak for det. Altså, vi deler jo mange af de be...  1626.0  1655.0   \n",
       "38                                        Ordføreren.  1655.0  1656.0   \n",
       "39  Vi så egentlig gerne, at vi fulgte reformgrupp...  1656.0  1701.0   \n",
       "40  Tak for det. Der er ikke andre, der har bedt o...  1701.0  1720.0   \n",
       "\n",
       "   StartClock  EndClock  \n",
       "0    10:00:51  10:01:28  \n",
       "1    10:01:28  10:06:41  \n",
       "2    10:06:41  10:06:49  \n",
       "3    10:06:49  10:07:25  \n",
       "4    10:07:25  10:07:36  \n",
       "5    10:07:36  10:09:15  \n",
       "6    10:09:15  10:09:30  \n",
       "7    10:09:30  10:10:09  \n",
       "8    10:10:09  10:10:27  \n",
       "9    10:10:27  10:11:26  \n",
       "10   10:11:26  10:11:36  \n",
       "11   10:11:36  10:12:28  \n",
       "12   10:12:28  10:12:36  \n",
       "13   10:12:36  10:14:26  \n",
       "14   10:14:26  10:14:33  \n",
       "15   10:14:33  10:17:00  \n",
       "16   10:17:00  10:17:07  \n",
       "17   10:17:07  10:20:04  \n",
       "18   10:20:04  10:20:07  \n",
       "19   10:20:07  10:20:28  \n",
       "20   10:20:28  10:20:29  \n",
       "21   10:20:29  10:20:55  \n",
       "22   10:20:55  10:20:57  \n",
       "23   10:20:57  10:21:23  \n",
       "24   10:21:23  10:21:26  \n",
       "25   10:21:26  10:22:05  \n",
       "26   10:22:05  10:22:36  \n",
       "27   10:22:36  10:25:15  \n",
       "28   10:25:15  10:25:20  \n",
       "29   10:25:20  10:25:58  \n",
       "30   10:25:58  10:26:00  \n",
       "31   10:26:00  10:26:16  \n",
       "32   10:26:16  10:26:18  \n",
       "33   10:26:18  10:26:32  \n",
       "34   10:26:32  10:26:33  \n",
       "35   10:26:33  10:26:42  \n",
       "36   10:26:42  10:26:47  \n",
       "37   10:26:47  10:27:16  \n",
       "38   10:27:16  10:27:17  \n",
       "39   10:27:17  10:28:02  \n",
       "40   10:28:02  10:28:21  "
      ]
     },
     "execution_count": 67,
     "metadata": {},
     "output_type": "execute_result"
    }
   ],
   "source": [
    "df"
   ]
  },
  {
   "cell_type": "markdown",
   "metadata": {},
   "source": [
    "# TRIM"
   ]
  },
  {
   "cell_type": "code",
   "execution_count": 68,
   "metadata": {},
   "outputs": [],
   "source": [
    "def trim_video(video_file_path, start_time, end_time, trimmed_video_path):\n",
    "    video = VideoFileClip(video_file_path).subclip(start_time, end_time)\n",
    "    video.write_videofile(trimmed_video_path, codec=\"libx264\", audio_codec=\"aac\")"
   ]
  },
  {
   "cell_type": "code",
   "execution_count": 69,
   "metadata": {},
   "outputs": [
    {
     "name": "stderr",
     "output_type": "stream",
     "text": [
      "                                                                \n",
      "                                                                \n",
      "t:   0%|          | 2/925 [11:40<89:48:48, 350.30s/it, now=None]"
     ]
    },
    {
     "name": "stdout",
     "output_type": "stream",
     "text": [
      "Moviepy - Building video ../data/test/clips/video1/0_Soeren Gade.mp4.\n",
      "MoviePy - Writing audio in 0_Soeren GadeTEMP_MPY_wvf_snd.mp4\n"
     ]
    },
    {
     "name": "stderr",
     "output_type": "stream",
     "text": [
      "\n",
      "\u001b[A\n",
      "\u001b[A\n",
      "\u001b[A\n",
      "\u001b[A\n",
      "\u001b[A\n",
      "\u001b[A\n",
      "\u001b[A\n",
      "\u001b[A\n",
      "\u001b[A\n",
      "\u001b[A\n",
      "                                                                \n",
      "                                                                \n",
      "t:   0%|          | 2/925 [11:41<89:56:34, 350.81s/it, now=None]"
     ]
    },
    {
     "name": "stdout",
     "output_type": "stream",
     "text": [
      "MoviePy - Done.\n",
      "Moviepy - Writing video ../data/test/clips/video1/0_Soeren Gade.mp4\n",
      "\n"
     ]
    },
    {
     "name": "stderr",
     "output_type": "stream",
     "text": [
      "\n",
      "\u001b[A\n",
      "\u001b[A\n",
      "\u001b[A\n",
      "\u001b[A\n",
      "\u001b[A\n",
      "\u001b[A\n",
      "\u001b[A\n",
      "\u001b[A\n",
      "\u001b[A\n",
      "\u001b[A\n",
      "\u001b[A\n",
      "\u001b[A\n",
      "\u001b[A\n",
      "\u001b[A\n",
      "\u001b[A\n",
      "\u001b[A\n",
      "\u001b[A\n",
      "\u001b[A\n",
      "\u001b[A\n",
      "\u001b[A\n",
      "\u001b[A\n",
      "\u001b[A\n",
      "                                                                \n",
      "                                                                \n",
      "t:   0%|          | 2/925 [11:44<90:17:11, 352.15s/it, now=None]"
     ]
    },
    {
     "name": "stdout",
     "output_type": "stream",
     "text": [
      "Moviepy - Done !\n",
      "Moviepy - video ready ../data/test/clips/video1/0_Soeren Gade.mp4\n"
     ]
    },
    {
     "name": "stderr",
     "output_type": "stream",
     "text": [
      "                                                                \n",
      "                                                                \n",
      "t:   0%|          | 2/925 [11:44<90:19:09, 352.27s/it, now=None]"
     ]
    },
    {
     "name": "stdout",
     "output_type": "stream",
     "text": [
      "Moviepy - Building video ../data/test/clips/video1/1_Jens Joel.mp4.\n",
      "MoviePy - Writing audio in 1_Jens JoelTEMP_MPY_wvf_snd.mp4\n"
     ]
    },
    {
     "name": "stderr",
     "output_type": "stream",
     "text": [
      "\n",
      "\u001b[A\n",
      "\u001b[A\n",
      "\u001b[A\n",
      "\u001b[A\n",
      "\u001b[A\n",
      "\u001b[A\n",
      "\u001b[A\n",
      "\u001b[A\n",
      "\u001b[A\n",
      "\u001b[A\n",
      "\u001b[A\n",
      "\u001b[A\n",
      "\u001b[A\n",
      "\u001b[A\n",
      "\u001b[A\n",
      "\u001b[A\n",
      "\u001b[A\n",
      "\u001b[A\n",
      "\u001b[A\n",
      "\u001b[A\n",
      "\u001b[A\n",
      "\u001b[A\n",
      "\u001b[A\n",
      "\u001b[A\n",
      "\u001b[A\n",
      "\u001b[A\n",
      "\u001b[A\n",
      "\u001b[A\n",
      "\u001b[A\n",
      "\u001b[A\n",
      "\u001b[A\n",
      "\u001b[A\n",
      "\u001b[A\n",
      "\u001b[A\n",
      "\u001b[A\n",
      "\u001b[A\n",
      "\u001b[A\n",
      "\u001b[A\n",
      "\u001b[A\n",
      "\u001b[A\n",
      "\u001b[A\n",
      "\u001b[A\n",
      "\u001b[A\n",
      "\u001b[A\n",
      "\u001b[A\n",
      "\u001b[A\n",
      "\u001b[A\n",
      "\u001b[A\n",
      "\u001b[A\n",
      "\u001b[A\n",
      "\u001b[A\n",
      "\u001b[A\n",
      "\u001b[A\n",
      "\u001b[A\n",
      "\u001b[A\n",
      "\u001b[A\n",
      "\u001b[A\n",
      "\u001b[A\n",
      "\u001b[A\n",
      "\u001b[A\n",
      "\u001b[A\n",
      "\u001b[A\n",
      "\u001b[A\n",
      "\u001b[A\n",
      "\u001b[A\n",
      "\u001b[A\n",
      "\u001b[A\n",
      "\u001b[A\n",
      "\u001b[A\n",
      "\u001b[A\n",
      "                                                                \n",
      "                                                                \n",
      "t:   0%|          | 2/925 [11:52<91:16:55, 356.03s/it, now=None]"
     ]
    },
    {
     "name": "stdout",
     "output_type": "stream",
     "text": [
      "MoviePy - Done.\n",
      "Moviepy - Writing video ../data/test/clips/video1/1_Jens Joel.mp4\n",
      "\n"
     ]
    },
    {
     "name": "stderr",
     "output_type": "stream",
     "text": [
      "\n",
      "\u001b[A\n",
      "\u001b[A\n",
      "\u001b[A\n",
      "\u001b[A\n",
      "\u001b[A\n",
      "\u001b[A\n",
      "\u001b[A\n",
      "\u001b[A\n",
      "\u001b[A\n",
      "\u001b[A\n",
      "\u001b[A\n",
      "\u001b[A\n",
      "\u001b[A\n",
      "\u001b[A\n",
      "\u001b[A\n",
      "\u001b[A\n",
      "\u001b[A\n",
      "\u001b[A\n",
      "\u001b[A\n",
      "\u001b[A\n",
      "\u001b[A\n",
      "\u001b[A\n",
      "\u001b[A\n",
      "\u001b[A\n",
      "\u001b[A\n",
      "\u001b[A\n",
      "\u001b[A\n",
      "\u001b[A\n",
      "\u001b[A\n",
      "\u001b[A\n",
      "\u001b[A\n",
      "\u001b[A\n",
      "\u001b[A\n",
      "\u001b[A\n",
      "\u001b[A\n",
      "\u001b[A\n",
      "\u001b[A\n",
      "\u001b[A\n",
      "\u001b[A\n",
      "\u001b[A\n",
      "\u001b[A\n",
      "\u001b[A\n",
      "\u001b[A\n",
      "\u001b[A\n",
      "\u001b[A\n",
      "\u001b[A\n",
      "\u001b[A\n",
      "\u001b[A\n",
      "\u001b[A\n",
      "\u001b[A\n",
      "\u001b[A\n",
      "\u001b[A\n",
      "\u001b[A\n",
      "\u001b[A\n",
      "\u001b[A\n",
      "\u001b[A\n",
      "\u001b[A\n",
      "\u001b[A\n",
      "\u001b[A\n",
      "\u001b[A\n",
      "\u001b[A\n",
      "\u001b[A\n",
      "\u001b[A\n",
      "\u001b[A\n",
      "\u001b[A\n",
      "\u001b[A\n",
      "\u001b[A\n",
      "\u001b[A\n",
      "\u001b[A\n",
      "\u001b[A\n",
      "\u001b[A\n",
      "\u001b[A\n",
      "\u001b[A\n",
      "\u001b[A\n",
      "\u001b[A\n",
      "\u001b[A\n",
      "\u001b[A\n",
      "\u001b[A\n",
      "\u001b[A\n",
      "\u001b[A\n",
      "\u001b[A\n",
      "\u001b[A\n",
      "\u001b[A\n",
      "\u001b[A\n",
      "\u001b[A\n",
      "\u001b[A\n",
      "\u001b[A\n",
      "\u001b[A\n",
      "\u001b[A\n",
      "\u001b[A\n",
      "\u001b[A\n",
      "\u001b[A\n",
      "\u001b[A\n",
      "\u001b[A\n",
      "\u001b[A\n",
      "\u001b[A\n",
      "\u001b[A\n",
      "\u001b[A\n",
      "\u001b[A\n",
      "\u001b[A\n",
      "\u001b[A\n",
      "\u001b[A\n",
      "\u001b[A\n",
      "\u001b[A\n",
      "\u001b[A\n",
      "\u001b[A\n",
      "\u001b[A\n",
      "\u001b[A\n",
      "\u001b[A\n",
      "\u001b[A\n",
      "\u001b[A\n",
      "\u001b[A\n",
      "\u001b[A\n",
      "\u001b[A\n",
      "\u001b[A\n",
      "\u001b[A\n",
      "\u001b[A\n",
      "\u001b[A\n",
      "\u001b[A\n",
      "\u001b[A\n",
      "\u001b[A\n",
      "\u001b[A\n",
      "\u001b[A\n",
      "\u001b[A\n",
      "\u001b[A\n",
      "\u001b[A\n",
      "\u001b[A\n",
      "\u001b[A\n",
      "\u001b[A\n",
      "\u001b[A\n",
      "\u001b[A\n",
      "\u001b[A\n",
      "\u001b[A\n",
      "\u001b[A\n",
      "\u001b[A\n",
      "\u001b[A\n",
      "\u001b[A\n",
      "\u001b[A\n",
      "\u001b[A\n",
      "\u001b[A\n",
      "\u001b[A\n",
      "\u001b[A\n",
      "\u001b[A\n",
      "\u001b[A\n",
      "\u001b[A\n",
      "\u001b[A\n",
      "\u001b[A\n",
      "\u001b[A\n",
      "\u001b[A\n",
      "\u001b[A\n",
      "\u001b[A\n",
      "\u001b[A\n",
      "\u001b[A\n",
      "\u001b[A\n",
      "\u001b[A\n",
      "\u001b[A\n",
      "\u001b[A\n",
      "\u001b[A\n",
      "\u001b[A\n",
      "\u001b[A\n",
      "\u001b[A\n",
      "\u001b[A\n",
      "\u001b[A\n",
      "\u001b[A\n",
      "\u001b[A\n",
      "\u001b[A\n",
      "\u001b[A\n",
      "\u001b[A\n",
      "\u001b[A\n",
      "\u001b[A\n",
      "\u001b[A\n",
      "\u001b[A\n",
      "\u001b[A\n",
      "\u001b[A\n",
      "\u001b[A\n",
      "\u001b[A\n",
      "\u001b[A\n",
      "\u001b[A\n",
      "\u001b[A\n",
      "\u001b[A\n",
      "\u001b[A\n",
      "\u001b[A\n",
      "\u001b[A\n",
      "\u001b[A\n",
      "\u001b[A\n",
      "\u001b[A\n",
      "\u001b[A\n",
      "\u001b[A\n",
      "                                                                \n",
      "                                                                \n",
      "t:   0%|          | 2/925 [12:12<93:55:02, 366.31s/it, now=None]"
     ]
    },
    {
     "name": "stdout",
     "output_type": "stream",
     "text": [
      "Moviepy - Done !\n",
      "Moviepy - video ready ../data/test/clips/video1/1_Jens Joel.mp4\n"
     ]
    },
    {
     "name": "stderr",
     "output_type": "stream",
     "text": [
      "                                                                \n",
      "                                                                \n",
      "t:   0%|          | 2/925 [12:12<93:57:11, 366.45s/it, now=None]"
     ]
    },
    {
     "name": "stdout",
     "output_type": "stream",
     "text": [
      "Moviepy - Building video ../data/test/clips/video1/2_Soeren Gade.mp4.\n",
      "MoviePy - Writing audio in 2_Soeren GadeTEMP_MPY_wvf_snd.mp4\n"
     ]
    },
    {
     "name": "stderr",
     "output_type": "stream",
     "text": [
      "\n",
      "\u001b[A\n",
      "\u001b[A\n",
      "\u001b[A\n",
      "                                                                \n",
      "                                                                \n",
      "t:   0%|          | 2/925 [12:13<93:58:57, 366.56s/it, now=None]"
     ]
    },
    {
     "name": "stdout",
     "output_type": "stream",
     "text": [
      "MoviePy - Done.\n",
      "Moviepy - Writing video ../data/test/clips/video1/2_Soeren Gade.mp4\n",
      "\n"
     ]
    },
    {
     "name": "stderr",
     "output_type": "stream",
     "text": [
      "\n",
      "\u001b[A\n",
      "\u001b[A\n",
      "\u001b[A\n",
      "\u001b[A\n",
      "                                                                \n",
      "                                                                \n",
      "t:   0%|          | 2/925 [12:13<94:02:58, 366.82s/it, now=None]"
     ]
    },
    {
     "name": "stdout",
     "output_type": "stream",
     "text": [
      "Moviepy - Done !\n",
      "Moviepy - video ready ../data/test/clips/video1/2_Soeren Gade.mp4\n"
     ]
    },
    {
     "name": "stderr",
     "output_type": "stream",
     "text": [
      "                                                                \n",
      "                                                                \n",
      "t:   0%|          | 2/925 [12:13<94:05:02, 366.96s/it, now=None]"
     ]
    },
    {
     "name": "stdout",
     "output_type": "stream",
     "text": [
      "Moviepy - Building video ../data/test/clips/video1/3_Thomas Danielsen.mp4.\n",
      "MoviePy - Writing audio in 3_Thomas DanielsenTEMP_MPY_wvf_snd.mp4\n"
     ]
    },
    {
     "name": "stderr",
     "output_type": "stream",
     "text": [
      "\n",
      "\u001b[A\n",
      "\u001b[A\n",
      "\u001b[A\n",
      "\u001b[A\n",
      "\u001b[A\n",
      "\u001b[A\n",
      "\u001b[A\n",
      "\u001b[A\n",
      "\u001b[A\n",
      "                                                                \n",
      "                                                                \n",
      "t:   0%|          | 2/925 [12:14<94:11:49, 367.40s/it, now=None]"
     ]
    },
    {
     "name": "stdout",
     "output_type": "stream",
     "text": [
      "MoviePy - Done.\n",
      "Moviepy - Writing video ../data/test/clips/video1/3_Thomas Danielsen.mp4\n",
      "\n"
     ]
    },
    {
     "name": "stderr",
     "output_type": "stream",
     "text": [
      "\n",
      "\u001b[A\n",
      "\u001b[A\n",
      "\u001b[A\n",
      "\u001b[A\n",
      "\u001b[A\n",
      "\u001b[A\n",
      "\u001b[A\n",
      "\u001b[A\n",
      "\u001b[A\n",
      "\u001b[A\n",
      "\u001b[A\n",
      "\u001b[A\n",
      "\u001b[A\n",
      "\u001b[A\n",
      "\u001b[A\n",
      "\u001b[A\n",
      "\u001b[A\n",
      "\u001b[A\n",
      "\u001b[A\n",
      "\u001b[A\n",
      "\u001b[A\n",
      "\u001b[A\n",
      "\u001b[A\n",
      "\u001b[A\n",
      "\u001b[A\n",
      "\u001b[A\n",
      "\u001b[A\n",
      "                                                                \n",
      "                                                                \n",
      "t:   0%|          | 2/925 [12:17<94:36:03, 368.97s/it, now=None]"
     ]
    },
    {
     "name": "stdout",
     "output_type": "stream",
     "text": [
      "Moviepy - Done !\n",
      "Moviepy - video ready ../data/test/clips/video1/3_Thomas Danielsen.mp4\n"
     ]
    },
    {
     "name": "stderr",
     "output_type": "stream",
     "text": [
      "                                                                \n",
      "                                                                \n",
      "t:   0%|          | 2/925 [12:18<94:38:03, 369.11s/it, now=None]"
     ]
    },
    {
     "name": "stdout",
     "output_type": "stream",
     "text": [
      "Moviepy - Building video ../data/test/clips/video1/4_Soeren Gade.mp4.\n",
      "MoviePy - Writing audio in 4_Soeren GadeTEMP_MPY_wvf_snd.mp4\n"
     ]
    },
    {
     "name": "stderr",
     "output_type": "stream",
     "text": [
      "\n",
      "\u001b[A\n",
      "\u001b[A\n",
      "\u001b[A\n",
      "                                                                \n",
      "                                                                \n",
      "t:   0%|          | 2/925 [12:18<94:40:01, 369.23s/it, now=None]"
     ]
    },
    {
     "name": "stdout",
     "output_type": "stream",
     "text": [
      "MoviePy - Done.\n",
      "Moviepy - Writing video ../data/test/clips/video1/4_Soeren Gade.mp4\n",
      "\n"
     ]
    },
    {
     "name": "stderr",
     "output_type": "stream",
     "text": [
      "\n",
      "\u001b[A\n",
      "\u001b[A\n",
      "\u001b[A\n",
      "\u001b[A\n",
      "\u001b[A\n",
      "\u001b[A\n",
      "                                                                \n",
      "                                                                \n",
      "t:   0%|          | 2/925 [12:19<94:45:33, 369.59s/it, now=None]"
     ]
    },
    {
     "name": "stdout",
     "output_type": "stream",
     "text": [
      "Moviepy - Done !\n",
      "Moviepy - video ready ../data/test/clips/video1/4_Soeren Gade.mp4\n"
     ]
    },
    {
     "name": "stderr",
     "output_type": "stream",
     "text": [
      "                                                                \n",
      "                                                                \n",
      "t:   0%|          | 2/925 [12:19<94:47:30, 369.72s/it, now=None]"
     ]
    },
    {
     "name": "stdout",
     "output_type": "stream",
     "text": [
      "Moviepy - Building video ../data/test/clips/video1/5_Henrik Frandsen.mp4.\n",
      "MoviePy - Writing audio in 5_Henrik FrandsenTEMP_MPY_wvf_snd.mp4\n"
     ]
    },
    {
     "name": "stderr",
     "output_type": "stream",
     "text": [
      "\n",
      "\u001b[A\n",
      "\u001b[A\n",
      "\u001b[A\n",
      "\u001b[A\n",
      "\u001b[A\n",
      "\u001b[A\n",
      "\u001b[A\n",
      "\u001b[A\n",
      "\u001b[A\n",
      "\u001b[A\n",
      "\u001b[A\n",
      "\u001b[A\n",
      "\u001b[A\n",
      "\u001b[A\n",
      "\u001b[A\n",
      "\u001b[A\n",
      "\u001b[A\n",
      "\u001b[A\n",
      "\u001b[A\n",
      "\u001b[A\n",
      "\u001b[A\n",
      "\u001b[A\n",
      "\u001b[A\n",
      "\u001b[A\n",
      "\u001b[A\n",
      "\u001b[A\n",
      "\u001b[A\n",
      "\u001b[A\n",
      "\u001b[A\n",
      "\u001b[A\n",
      "                                                                \n",
      "                                                                \n",
      "t:   0%|          | 2/925 [12:22<95:12:21, 371.33s/it, now=None]"
     ]
    },
    {
     "name": "stdout",
     "output_type": "stream",
     "text": [
      "MoviePy - Done.\n",
      "Moviepy - Writing video ../data/test/clips/video1/5_Henrik Frandsen.mp4\n",
      "\n"
     ]
    },
    {
     "name": "stderr",
     "output_type": "stream",
     "text": [
      "\n",
      "\u001b[A\n",
      "\u001b[A\n",
      "\u001b[A\n",
      "\u001b[A\n",
      "\u001b[A\n",
      "\u001b[A\n",
      "\u001b[A\n",
      "\u001b[A\n",
      "\u001b[A\n",
      "\u001b[A\n",
      "\u001b[A\n",
      "\u001b[A\n",
      "\u001b[A\n",
      "\u001b[A\n",
      "\u001b[A\n",
      "\u001b[A\n",
      "\u001b[A\n",
      "\u001b[A\n",
      "\u001b[A\n",
      "\u001b[A\n",
      "\u001b[A\n",
      "\u001b[A\n",
      "\u001b[A\n",
      "\u001b[A\n",
      "\u001b[A\n",
      "\u001b[A\n",
      "\u001b[A\n",
      "\u001b[A\n",
      "\u001b[A\n",
      "\u001b[A\n",
      "\u001b[A\n",
      "\u001b[A\n",
      "\u001b[A\n",
      "\u001b[A\n",
      "\u001b[A\n",
      "\u001b[A\n",
      "\u001b[A\n",
      "\u001b[A\n",
      "\u001b[A\n",
      "\u001b[A\n",
      "\u001b[A\n",
      "\u001b[A\n",
      "\u001b[A\n",
      "\u001b[A\n",
      "\u001b[A\n",
      "\u001b[A\n",
      "\u001b[A\n",
      "\u001b[A\n",
      "\u001b[A\n",
      "\u001b[A\n",
      "\u001b[A\n",
      "\u001b[A\n",
      "\u001b[A\n",
      "\u001b[A\n",
      "\u001b[A\n",
      "\u001b[A\n",
      "\u001b[A\n",
      "                                                                \n",
      "                                                                \n",
      "t:   0%|          | 2/925 [12:28<95:59:23, 374.39s/it, now=None]"
     ]
    },
    {
     "name": "stdout",
     "output_type": "stream",
     "text": [
      "Moviepy - Done !\n",
      "Moviepy - video ready ../data/test/clips/video1/5_Henrik Frandsen.mp4\n"
     ]
    },
    {
     "name": "stderr",
     "output_type": "stream",
     "text": [
      "                                                                \n",
      "                                                                \n",
      "t:   0%|          | 2/925 [12:29<96:01:34, 374.53s/it, now=None]"
     ]
    },
    {
     "name": "stdout",
     "output_type": "stream",
     "text": [
      "Moviepy - Building video ../data/test/clips/video1/6_Soeren Gade.mp4.\n",
      "MoviePy - Writing audio in 6_Soeren GadeTEMP_MPY_wvf_snd.mp4\n"
     ]
    },
    {
     "name": "stderr",
     "output_type": "stream",
     "text": [
      "\n",
      "\u001b[A\n",
      "\u001b[A\n",
      "\u001b[A\n",
      "\u001b[A\n",
      "                                                                \n",
      "                                                                \n",
      "t:   0%|          | 2/925 [12:29<96:04:10, 374.70s/it, now=None]"
     ]
    },
    {
     "name": "stdout",
     "output_type": "stream",
     "text": [
      "MoviePy - Done.\n",
      "Moviepy - Writing video ../data/test/clips/video1/6_Soeren Gade.mp4\n",
      "\n"
     ]
    },
    {
     "name": "stderr",
     "output_type": "stream",
     "text": [
      "\n",
      "\u001b[A\n",
      "\u001b[A\n",
      "\u001b[A\n",
      "\u001b[A\n",
      "\u001b[A\n",
      "\u001b[A\n",
      "\u001b[A\n",
      "\u001b[A\n",
      "\u001b[A\n",
      "                                                                \n",
      "                                                                \n",
      "t:   0%|          | 2/925 [12:30<96:11:56, 375.21s/it, now=None]"
     ]
    },
    {
     "name": "stdout",
     "output_type": "stream",
     "text": [
      "Moviepy - Done !\n",
      "Moviepy - video ready ../data/test/clips/video1/6_Soeren Gade.mp4\n"
     ]
    },
    {
     "name": "stderr",
     "output_type": "stream",
     "text": [
      "                                                                \n",
      "                                                                \n",
      "t:   0%|          | 2/925 [12:30<96:13:54, 375.34s/it, now=None]"
     ]
    },
    {
     "name": "stdout",
     "output_type": "stream",
     "text": [
      "Moviepy - Building video ../data/test/clips/video1/7_Karina Lorentzen Dehnhardt.mp4.\n",
      "MoviePy - Writing audio in 7_Karina Lorentzen DehnhardtTEMP_MPY_wvf_snd.mp4\n"
     ]
    },
    {
     "name": "stderr",
     "output_type": "stream",
     "text": [
      "\n",
      "\u001b[A\n",
      "\u001b[A\n",
      "\u001b[A\n",
      "\u001b[A\n",
      "\u001b[A\n",
      "\u001b[A\n",
      "\u001b[A\n",
      "\u001b[A\n",
      "\u001b[A\n",
      "\u001b[A\n",
      "                                                                \n",
      "                                                                \n",
      "t:   0%|          | 2/925 [12:31<96:21:13, 375.81s/it, now=None]"
     ]
    },
    {
     "name": "stdout",
     "output_type": "stream",
     "text": [
      "MoviePy - Done.\n",
      "Moviepy - Writing video ../data/test/clips/video1/7_Karina Lorentzen Dehnhardt.mp4\n",
      "\n"
     ]
    },
    {
     "name": "stderr",
     "output_type": "stream",
     "text": [
      "\n",
      "\u001b[A\n",
      "\u001b[A\n",
      "\u001b[A\n",
      "\u001b[A\n",
      "\u001b[A\n",
      "\u001b[A\n",
      "\u001b[A\n",
      "\u001b[A\n",
      "\u001b[A\n",
      "\u001b[A\n",
      "\u001b[A\n",
      "\u001b[A\n",
      "\u001b[A\n",
      "\u001b[A\n",
      "\u001b[A\n",
      "\u001b[A\n",
      "\u001b[A\n",
      "\u001b[A\n",
      "\u001b[A\n",
      "\u001b[A\n",
      "\u001b[A\n",
      "\u001b[A\n",
      "\u001b[A\n",
      "                                                                \n",
      "                                                                \n",
      "t:   0%|          | 2/925 [12:34<96:41:35, 377.13s/it, now=None]"
     ]
    },
    {
     "name": "stdout",
     "output_type": "stream",
     "text": [
      "Moviepy - Done !\n",
      "Moviepy - video ready ../data/test/clips/video1/7_Karina Lorentzen Dehnhardt.mp4\n"
     ]
    },
    {
     "name": "stderr",
     "output_type": "stream",
     "text": [
      "                                                                \n",
      "                                                                \n",
      "t:   0%|          | 2/925 [12:34<96:44:10, 377.30s/it, now=None]"
     ]
    },
    {
     "name": "stdout",
     "output_type": "stream",
     "text": [
      "Moviepy - Building video ../data/test/clips/video1/8_Soeren Gade.mp4.\n",
      "MoviePy - Writing audio in 8_Soeren GadeTEMP_MPY_wvf_snd.mp4\n"
     ]
    },
    {
     "name": "stderr",
     "output_type": "stream",
     "text": [
      "\n",
      "\u001b[A\n",
      "\u001b[A\n",
      "\u001b[A\n",
      "\u001b[A\n",
      "\u001b[A\n",
      "                                                                \n",
      "                                                                \n",
      "t:   0%|          | 2/925 [12:35<96:48:30, 377.59s/it, now=None]"
     ]
    },
    {
     "name": "stdout",
     "output_type": "stream",
     "text": [
      "MoviePy - Done.\n",
      "Moviepy - Writing video ../data/test/clips/video1/8_Soeren Gade.mp4\n",
      "\n"
     ]
    },
    {
     "name": "stderr",
     "output_type": "stream",
     "text": [
      "\n",
      "\u001b[A\n",
      "\u001b[A\n",
      "\u001b[A\n",
      "\u001b[A\n",
      "\u001b[A\n",
      "\u001b[A\n",
      "\u001b[A\n",
      "\u001b[A\n",
      "\u001b[A\n",
      "\u001b[A\n",
      "\u001b[A\n",
      "\u001b[A\n",
      "                                                                \n",
      "                                                                \n",
      "t:   0%|          | 2/925 [12:36<96:59:54, 378.33s/it, now=None]"
     ]
    },
    {
     "name": "stdout",
     "output_type": "stream",
     "text": [
      "Moviepy - Done !\n",
      "Moviepy - video ready ../data/test/clips/video1/8_Soeren Gade.mp4\n"
     ]
    },
    {
     "name": "stderr",
     "output_type": "stream",
     "text": [
      "                                                                \n",
      "                                                                \n",
      "t:   0%|          | 2/925 [12:36<97:02:28, 378.49s/it, now=None]"
     ]
    },
    {
     "name": "stdout",
     "output_type": "stream",
     "text": [
      "Moviepy - Building video ../data/test/clips/video1/9_Peter Skaarup.mp4.\n",
      "MoviePy - Writing audio in 9_Peter SkaarupTEMP_MPY_wvf_snd.mp4\n"
     ]
    },
    {
     "name": "stderr",
     "output_type": "stream",
     "text": [
      "\n",
      "\u001b[A\n",
      "\u001b[A\n",
      "\u001b[A\n",
      "\u001b[A\n",
      "\u001b[A\n",
      "\u001b[A\n",
      "\u001b[A\n",
      "\u001b[A\n",
      "\u001b[A\n",
      "\u001b[A\n",
      "\u001b[A\n",
      "\u001b[A\n",
      "\u001b[A\n",
      "\u001b[A\n",
      "\u001b[A\n",
      "\u001b[A\n",
      "\u001b[A\n",
      "\u001b[A\n",
      "\u001b[A\n",
      "\u001b[A\n",
      "                                                                \n",
      "                                                                \n",
      "t:   0%|          | 2/925 [12:39<97:18:44, 379.55s/it, now=None]"
     ]
    },
    {
     "name": "stdout",
     "output_type": "stream",
     "text": [
      "MoviePy - Done.\n",
      "Moviepy - Writing video ../data/test/clips/video1/9_Peter Skaarup.mp4\n",
      "\n"
     ]
    },
    {
     "name": "stderr",
     "output_type": "stream",
     "text": [
      "\n",
      "\u001b[A\n",
      "\u001b[A\n",
      "\u001b[A\n",
      "\u001b[A\n",
      "\u001b[A\n",
      "\u001b[A\n",
      "\u001b[A\n",
      "\u001b[A\n",
      "\u001b[A\n",
      "\u001b[A\n",
      "\u001b[A\n",
      "\u001b[A\n",
      "\u001b[A\n",
      "\u001b[A\n",
      "\u001b[A\n",
      "\u001b[A\n",
      "\u001b[A\n",
      "\u001b[A\n",
      "\u001b[A\n",
      "\u001b[A\n",
      "\u001b[A\n",
      "\u001b[A\n",
      "\u001b[A\n",
      "\u001b[A\n",
      "\u001b[A\n",
      "\u001b[A\n",
      "\u001b[A\n",
      "\u001b[A\n",
      "\u001b[A\n",
      "\u001b[A\n",
      "\u001b[A\n",
      "\u001b[A\n",
      "\u001b[A\n",
      "                                                                \n",
      "                                                                \n",
      "t:   0%|          | 2/925 [12:42<97:46:04, 381.33s/it, now=None]"
     ]
    },
    {
     "name": "stdout",
     "output_type": "stream",
     "text": [
      "Moviepy - Done !\n",
      "Moviepy - video ready ../data/test/clips/video1/9_Peter Skaarup.mp4\n"
     ]
    },
    {
     "name": "stderr",
     "output_type": "stream",
     "text": [
      "                                                                \n",
      "                                                                \n",
      "t:   0%|          | 2/925 [12:42<97:48:07, 381.46s/it, now=None]"
     ]
    },
    {
     "name": "stdout",
     "output_type": "stream",
     "text": [
      "Moviepy - Building video ../data/test/clips/video1/10_Soeren Gade.mp4.\n",
      "MoviePy - Writing audio in 10_Soeren GadeTEMP_MPY_wvf_snd.mp4\n"
     ]
    },
    {
     "name": "stderr",
     "output_type": "stream",
     "text": [
      "\n",
      "\u001b[A\n",
      "\u001b[A\n",
      "\u001b[A\n",
      "                                                                \n",
      "                                                                \n",
      "t:   0%|          | 2/925 [12:43<97:50:22, 381.61s/it, now=None]"
     ]
    },
    {
     "name": "stdout",
     "output_type": "stream",
     "text": [
      "MoviePy - Done.\n",
      "Moviepy - Writing video ../data/test/clips/video1/10_Soeren Gade.mp4\n",
      "\n"
     ]
    },
    {
     "name": "stderr",
     "output_type": "stream",
     "text": [
      "\n",
      "\u001b[A\n",
      "\u001b[A\n",
      "\u001b[A\n",
      "\u001b[A\n",
      "\u001b[A\n",
      "\u001b[A\n",
      "                                                                \n",
      "                                                                \n",
      "t:   0%|          | 2/925 [12:43<97:55:33, 381.94s/it, now=None]"
     ]
    },
    {
     "name": "stdout",
     "output_type": "stream",
     "text": [
      "Moviepy - Done !\n",
      "Moviepy - video ready ../data/test/clips/video1/10_Soeren Gade.mp4\n"
     ]
    },
    {
     "name": "stderr",
     "output_type": "stream",
     "text": [
      "                                                                \n",
      "                                                                \n",
      "t:   0%|          | 2/925 [12:44<97:57:30, 382.07s/it, now=None]"
     ]
    },
    {
     "name": "stdout",
     "output_type": "stream",
     "text": [
      "Moviepy - Building video ../data/test/clips/video1/11_Ole Birk Olesen.mp4.\n",
      "MoviePy - Writing audio in 11_Ole Birk OlesenTEMP_MPY_wvf_snd.mp4\n"
     ]
    },
    {
     "name": "stderr",
     "output_type": "stream",
     "text": [
      "\n",
      "\u001b[A\n",
      "\u001b[A\n",
      "\u001b[A\n",
      "\u001b[A\n",
      "\u001b[A\n",
      "\u001b[A\n",
      "\u001b[A\n",
      "\u001b[A\n",
      "\u001b[A\n",
      "\u001b[A\n",
      "\u001b[A\n",
      "\u001b[A\n",
      "\u001b[A\n",
      "\u001b[A\n",
      "\u001b[A\n",
      "\u001b[A\n",
      "\u001b[A\n",
      "\u001b[A\n",
      "                                                                \n",
      "                                                                \n",
      "t:   0%|          | 2/925 [12:45<98:11:46, 383.00s/it, now=None]"
     ]
    },
    {
     "name": "stdout",
     "output_type": "stream",
     "text": [
      "MoviePy - Done.\n",
      "Moviepy - Writing video ../data/test/clips/video1/11_Ole Birk Olesen.mp4\n",
      "\n"
     ]
    },
    {
     "name": "stderr",
     "output_type": "stream",
     "text": [
      "\n",
      "\u001b[A\n",
      "\u001b[A\n",
      "\u001b[A\n",
      "\u001b[A\n",
      "\u001b[A\n",
      "\u001b[A\n",
      "\u001b[A\n",
      "\u001b[A\n",
      "\u001b[A\n",
      "\u001b[A\n",
      "\u001b[A\n",
      "\u001b[A\n",
      "\u001b[A\n",
      "\u001b[A\n",
      "\u001b[A\n",
      "\u001b[A\n",
      "\u001b[A\n",
      "\u001b[A\n",
      "\u001b[A\n",
      "\u001b[A\n",
      "\u001b[A\n",
      "\u001b[A\n",
      "\u001b[A\n",
      "\u001b[A\n",
      "\u001b[A\n",
      "\u001b[A\n",
      "\u001b[A\n",
      "\u001b[A\n",
      "\u001b[A\n",
      "\u001b[A\n",
      "\u001b[A\n",
      "                                                                \n",
      "                                                                \n",
      "t:   0%|          | 2/925 [12:49<98:38:49, 384.76s/it, now=None]"
     ]
    },
    {
     "name": "stdout",
     "output_type": "stream",
     "text": [
      "Moviepy - Done !\n",
      "Moviepy - video ready ../data/test/clips/video1/11_Ole Birk Olesen.mp4\n"
     ]
    },
    {
     "name": "stderr",
     "output_type": "stream",
     "text": [
      "                                                                \n",
      "                                                                \n",
      "t:   0%|          | 2/925 [12:49<98:41:40, 384.94s/it, now=None]"
     ]
    },
    {
     "name": "stdout",
     "output_type": "stream",
     "text": [
      "Moviepy - Building video ../data/test/clips/video1/12_Soeren Gade.mp4.\n",
      "MoviePy - Writing audio in 12_Soeren GadeTEMP_MPY_wvf_snd.mp4\n"
     ]
    },
    {
     "name": "stderr",
     "output_type": "stream",
     "text": [
      "\n",
      "\u001b[A\n",
      "\u001b[A\n",
      "\u001b[A\n",
      "                                                                \n",
      "                                                                \n",
      "t:   0%|          | 2/925 [12:50<98:44:25, 385.12s/it, now=None]"
     ]
    },
    {
     "name": "stdout",
     "output_type": "stream",
     "text": [
      "MoviePy - Done.\n",
      "Moviepy - Writing video ../data/test/clips/video1/12_Soeren Gade.mp4\n",
      "\n"
     ]
    },
    {
     "name": "stderr",
     "output_type": "stream",
     "text": [
      "\n",
      "\u001b[A\n",
      "\u001b[A\n",
      "\u001b[A\n",
      "\u001b[A\n",
      "\u001b[A\n",
      "                                                                \n",
      "                                                                \n",
      "t:   0%|          | 2/925 [12:50<98:48:56, 385.41s/it, now=None]"
     ]
    },
    {
     "name": "stdout",
     "output_type": "stream",
     "text": [
      "Moviepy - Done !\n",
      "Moviepy - video ready ../data/test/clips/video1/12_Soeren Gade.mp4\n"
     ]
    },
    {
     "name": "stderr",
     "output_type": "stream",
     "text": [
      "                                                                \n",
      "                                                                \n",
      "t:   0%|          | 2/925 [12:51<98:50:57, 385.54s/it, now=None]"
     ]
    },
    {
     "name": "stdout",
     "output_type": "stream",
     "text": [
      "Moviepy - Building video ../data/test/clips/video1/13_Mai Mercado.mp4.\n",
      "MoviePy - Writing audio in 13_Mai MercadoTEMP_MPY_wvf_snd.mp4\n"
     ]
    },
    {
     "name": "stderr",
     "output_type": "stream",
     "text": [
      "\n",
      "\u001b[A\n",
      "\u001b[A\n",
      "\u001b[A\n",
      "\u001b[A\n",
      "\u001b[A\n",
      "\u001b[A\n",
      "\u001b[A\n",
      "\u001b[A\n",
      "\u001b[A\n",
      "\u001b[A\n",
      "\u001b[A\n",
      "\u001b[A\n",
      "\u001b[A\n",
      "\u001b[A\n",
      "\u001b[A\n",
      "\u001b[A\n",
      "\u001b[A\n",
      "\u001b[A\n",
      "\u001b[A\n",
      "\u001b[A\n",
      "                                                                \n",
      "                                                                \n",
      "t:   0%|          | 2/925 [12:53<99:06:14, 386.54s/it, now=None]"
     ]
    },
    {
     "name": "stdout",
     "output_type": "stream",
     "text": [
      "MoviePy - Done.\n",
      "Moviepy - Writing video ../data/test/clips/video1/13_Mai Mercado.mp4\n",
      "\n"
     ]
    },
    {
     "name": "stderr",
     "output_type": "stream",
     "text": [
      "\n",
      "\u001b[A\n",
      "\u001b[A\n",
      "\u001b[A\n",
      "\u001b[A\n",
      "\u001b[A\n",
      "\u001b[A\n",
      "\u001b[A\n",
      "\u001b[A\n",
      "\u001b[A\n",
      "\u001b[A\n",
      "\u001b[A\n",
      "\u001b[A\n",
      "\u001b[A\n",
      "\u001b[A\n",
      "\u001b[A\n",
      "\u001b[A\n",
      "\u001b[A\n",
      "\u001b[A\n",
      "\u001b[A\n",
      "\u001b[A\n",
      "\u001b[A\n",
      "\u001b[A\n",
      "\u001b[A\n",
      "\u001b[A\n",
      "\u001b[A\n",
      "\u001b[A\n",
      "\u001b[A\n",
      "\u001b[A\n",
      "\u001b[A\n",
      "\u001b[A\n",
      "\u001b[A\n",
      "\u001b[A\n",
      "\u001b[A\n",
      "\u001b[A\n",
      "\u001b[A\n",
      "\u001b[A\n",
      "\u001b[A\n",
      "\u001b[A\n",
      "\u001b[A\n",
      "\u001b[A\n",
      "\u001b[A\n",
      "\u001b[A\n",
      "\u001b[A\n",
      "\u001b[A\n",
      "\u001b[A\n",
      "\u001b[A\n",
      "\u001b[A\n",
      "\u001b[A\n",
      "\u001b[A\n",
      "\u001b[A\n",
      "\u001b[A\n",
      "\u001b[A\n",
      "\u001b[A\n",
      "\u001b[A\n",
      "\u001b[A\n",
      "\u001b[A\n",
      "\u001b[A\n",
      "\u001b[A\n",
      "\u001b[A\n",
      "\u001b[A\n",
      "\u001b[A\n",
      "\u001b[A\n",
      "\u001b[A\n",
      "\u001b[A\n",
      "\u001b[A\n",
      "                                                                \n",
      "                                                                 \n",
      "t:   0%|          | 2/925 [13:00<100:01:08, 390.11s/it, now=None]"
     ]
    },
    {
     "name": "stdout",
     "output_type": "stream",
     "text": [
      "Moviepy - Done !\n",
      "Moviepy - video ready ../data/test/clips/video1/13_Mai Mercado.mp4\n"
     ]
    },
    {
     "name": "stderr",
     "output_type": "stream",
     "text": [
      "                                                                 \n",
      "                                                                 \n",
      "t:   0%|          | 2/925 [13:00<100:03:12, 390.24s/it, now=None]"
     ]
    },
    {
     "name": "stdout",
     "output_type": "stream",
     "text": [
      "Moviepy - Building video ../data/test/clips/video1/14_Soeren Gade.mp4.\n",
      "MoviePy - Writing audio in 14_Soeren GadeTEMP_MPY_wvf_snd.mp4\n"
     ]
    },
    {
     "name": "stderr",
     "output_type": "stream",
     "text": [
      "\n",
      "\u001b[A\n",
      "\u001b[A\n",
      "\u001b[A\n",
      "                                                                 \n",
      "                                                                 \n",
      "t:   0%|          | 2/925 [13:00<100:05:02, 390.36s/it, now=None]"
     ]
    },
    {
     "name": "stdout",
     "output_type": "stream",
     "text": [
      "MoviePy - Done.\n",
      "Moviepy - Writing video ../data/test/clips/video1/14_Soeren Gade.mp4\n",
      "\n"
     ]
    },
    {
     "name": "stderr",
     "output_type": "stream",
     "text": [
      "\n",
      "\u001b[A\n",
      "\u001b[A\n",
      "\u001b[A\n",
      "\u001b[A\n",
      "                                                                 \n",
      "                                                                 \n",
      "t:   0%|          | 2/925 [13:01<100:09:12, 390.63s/it, now=None]"
     ]
    },
    {
     "name": "stdout",
     "output_type": "stream",
     "text": [
      "Moviepy - Done !\n",
      "Moviepy - video ready ../data/test/clips/video1/14_Soeren Gade.mp4\n"
     ]
    },
    {
     "name": "stderr",
     "output_type": "stream",
     "text": [
      "                                                                 \n",
      "                                                                 \n",
      "t:   0%|          | 2/925 [13:01<100:11:19, 390.77s/it, now=None]"
     ]
    },
    {
     "name": "stdout",
     "output_type": "stream",
     "text": [
      "Moviepy - Building video ../data/test/clips/video1/15_Peder Hvelplund.mp4.\n",
      "MoviePy - Writing audio in 15_Peder HvelplundTEMP_MPY_wvf_snd.mp4\n"
     ]
    },
    {
     "name": "stderr",
     "output_type": "stream",
     "text": [
      "\n",
      "\u001b[A\n",
      "\u001b[A\n",
      "\u001b[A\n",
      "\u001b[A\n",
      "\u001b[A\n",
      "\u001b[A\n",
      "\u001b[A\n",
      "\u001b[A\n",
      "\u001b[A\n",
      "\u001b[A\n",
      "\u001b[A\n",
      "\u001b[A\n",
      "\u001b[A\n",
      "\u001b[A\n",
      "\u001b[A\n",
      "\u001b[A\n",
      "\u001b[A\n",
      "\u001b[A\n",
      "\u001b[A\n",
      "\u001b[A\n",
      "\u001b[A\n",
      "\u001b[A\n",
      "\u001b[A\n",
      "\u001b[A\n",
      "\u001b[A\n",
      "\u001b[A\n",
      "\u001b[A\n",
      "\u001b[A\n",
      "\u001b[A\n",
      "\u001b[A\n",
      "\u001b[A\n",
      "\u001b[A\n",
      "\u001b[A\n",
      "\u001b[A\n",
      "\u001b[A\n",
      "\u001b[A\n",
      "\u001b[A\n",
      "\u001b[A\n",
      "\u001b[A\n",
      "\u001b[A\n",
      "\u001b[A\n",
      "\u001b[A\n",
      "\u001b[A\n",
      "\u001b[A\n",
      "\u001b[A\n",
      "\u001b[A\n",
      "\u001b[A\n",
      "                                                                 \n",
      "                                                                 \n",
      "t:   0%|          | 2/925 [13:06<100:50:16, 393.30s/it, now=None]"
     ]
    },
    {
     "name": "stdout",
     "output_type": "stream",
     "text": [
      "MoviePy - Done.\n",
      "Moviepy - Writing video ../data/test/clips/video1/15_Peder Hvelplund.mp4\n",
      "\n"
     ]
    },
    {
     "name": "stderr",
     "output_type": "stream",
     "text": [
      "\n",
      "\u001b[A\n",
      "\u001b[A\n",
      "\u001b[A\n",
      "\u001b[A\n",
      "\u001b[A\n",
      "\u001b[A\n",
      "\u001b[A\n",
      "\u001b[A\n",
      "\u001b[A\n",
      "\u001b[A\n",
      "\u001b[A\n",
      "\u001b[A\n",
      "\u001b[A\n",
      "\u001b[A\n",
      "\u001b[A\n",
      "\u001b[A\n",
      "\u001b[A\n",
      "\u001b[A\n",
      "\u001b[A\n",
      "\u001b[A\n",
      "\u001b[A\n",
      "\u001b[A\n",
      "\u001b[A\n",
      "\u001b[A\n",
      "\u001b[A\n",
      "\u001b[A\n",
      "\u001b[A\n",
      "\u001b[A\n",
      "\u001b[A\n",
      "\u001b[A\n",
      "\u001b[A\n",
      "\u001b[A\n",
      "\u001b[A\n",
      "\u001b[A\n",
      "\u001b[A\n",
      "\u001b[A\n",
      "\u001b[A\n",
      "\u001b[A\n",
      "\u001b[A\n",
      "\u001b[A\n",
      "\u001b[A\n",
      "\u001b[A\n",
      "\u001b[A\n",
      "\u001b[A\n",
      "\u001b[A\n",
      "\u001b[A\n",
      "\u001b[A\n",
      "\u001b[A\n",
      "\u001b[A\n",
      "\u001b[A\n",
      "\u001b[A\n",
      "\u001b[A\n",
      "\u001b[A\n",
      "\u001b[A\n",
      "\u001b[A\n",
      "\u001b[A\n",
      "\u001b[A\n",
      "\u001b[A\n",
      "\u001b[A\n",
      "\u001b[A\n",
      "\u001b[A\n",
      "\u001b[A\n",
      "\u001b[A\n",
      "\u001b[A\n",
      "\u001b[A\n",
      "\u001b[A\n",
      "\u001b[A\n",
      "\u001b[A\n",
      "\u001b[A\n",
      "\u001b[A\n",
      "\u001b[A\n",
      "\u001b[A\n",
      "\u001b[A\n",
      "\u001b[A\n",
      "\u001b[A\n",
      "\u001b[A\n",
      "\u001b[A\n",
      "\u001b[A\n",
      "\u001b[A\n",
      "\u001b[A\n",
      "\u001b[A\n",
      "\u001b[A\n",
      "\u001b[A\n",
      "\u001b[A\n",
      "\u001b[A\n",
      "\u001b[A\n",
      "\u001b[A\n",
      "\u001b[A\n",
      "                                                                 \n",
      "                                                                 \n",
      "t:   0%|          | 2/925 [13:15<102:02:17, 397.98s/it, now=None]"
     ]
    },
    {
     "name": "stdout",
     "output_type": "stream",
     "text": [
      "Moviepy - Done !\n",
      "Moviepy - video ready ../data/test/clips/video1/15_Peder Hvelplund.mp4\n"
     ]
    },
    {
     "name": "stderr",
     "output_type": "stream",
     "text": [
      "                                                                 \n",
      "                                                                 \n",
      "t:   0%|          | 2/925 [13:16<102:04:22, 398.12s/it, now=None]"
     ]
    },
    {
     "name": "stdout",
     "output_type": "stream",
     "text": [
      "Moviepy - Building video ../data/test/clips/video1/16_Soeren Gade.mp4.\n",
      "MoviePy - Writing audio in 16_Soeren GadeTEMP_MPY_wvf_snd.mp4\n"
     ]
    },
    {
     "name": "stderr",
     "output_type": "stream",
     "text": [
      "\n",
      "\u001b[A\n",
      "\u001b[A\n",
      "\u001b[A\n",
      "                                                                 \n",
      "                                                                 \n",
      "t:   0%|          | 2/925 [13:16<102:06:22, 398.25s/it, now=None]"
     ]
    },
    {
     "name": "stdout",
     "output_type": "stream",
     "text": [
      "MoviePy - Done.\n",
      "Moviepy - Writing video ../data/test/clips/video1/16_Soeren Gade.mp4\n",
      "\n"
     ]
    },
    {
     "name": "stderr",
     "output_type": "stream",
     "text": [
      "\n",
      "\u001b[A\n",
      "\u001b[A\n",
      "\u001b[A\n",
      "\u001b[A\n",
      "                                                                 \n",
      "                                                                 \n",
      "t:   0%|          | 2/925 [13:17<102:10:35, 398.52s/it, now=None]"
     ]
    },
    {
     "name": "stdout",
     "output_type": "stream",
     "text": [
      "Moviepy - Done !\n",
      "Moviepy - video ready ../data/test/clips/video1/16_Soeren Gade.mp4\n"
     ]
    },
    {
     "name": "stderr",
     "output_type": "stream",
     "text": [
      "                                                                 \n",
      "                                                                 \n",
      "t:   0%|          | 2/925 [13:17<102:12:39, 398.66s/it, now=None]"
     ]
    },
    {
     "name": "stdout",
     "output_type": "stream",
     "text": [
      "Moviepy - Building video ../data/test/clips/video1/17_Theresa Scavenius.mp4.\n",
      "MoviePy - Writing audio in 17_Theresa ScaveniusTEMP_MPY_wvf_snd.mp4\n"
     ]
    },
    {
     "name": "stderr",
     "output_type": "stream",
     "text": [
      "\n",
      "\u001b[A\n",
      "\u001b[A\n",
      "\u001b[A\n",
      "\u001b[A\n",
      "\u001b[A\n",
      "\u001b[A\n",
      "\u001b[A\n",
      "\u001b[A\n",
      "\u001b[A\n",
      "\u001b[A\n",
      "\u001b[A\n",
      "\u001b[A\n",
      "\u001b[A\n",
      "\u001b[A\n",
      "\u001b[A\n",
      "\u001b[A\n",
      "\u001b[A\n",
      "\u001b[A\n",
      "\u001b[A\n",
      "\u001b[A\n",
      "\u001b[A\n",
      "\u001b[A\n",
      "\u001b[A\n",
      "\u001b[A\n",
      "\u001b[A\n",
      "\u001b[A\n",
      "\u001b[A\n",
      "\u001b[A\n",
      "\u001b[A\n",
      "\u001b[A\n",
      "\u001b[A\n",
      "\u001b[A\n",
      "\u001b[A\n",
      "\u001b[A\n",
      "\u001b[A\n",
      "\u001b[A\n",
      "\u001b[A\n",
      "\u001b[A\n",
      "                                                                 \n",
      "                                                                 \n",
      "t:   0%|          | 2/925 [13:21<102:43:23, 400.65s/it, now=None]"
     ]
    },
    {
     "name": "stdout",
     "output_type": "stream",
     "text": [
      "MoviePy - Done.\n",
      "Moviepy - Writing video ../data/test/clips/video1/17_Theresa Scavenius.mp4\n",
      "\n"
     ]
    },
    {
     "name": "stderr",
     "output_type": "stream",
     "text": [
      "\n",
      "\u001b[A\n",
      "\u001b[A\n",
      "\u001b[A\n",
      "\u001b[A\n",
      "\u001b[A\n",
      "\u001b[A\n",
      "\u001b[A\n",
      "\u001b[A\n",
      "\u001b[A\n",
      "\u001b[A\n",
      "\u001b[A\n",
      "\u001b[A\n",
      "\u001b[A\n",
      "\u001b[A\n",
      "\u001b[A\n",
      "\u001b[A\n",
      "\u001b[A\n",
      "\u001b[A\n",
      "\u001b[A\n",
      "\u001b[A\n",
      "\u001b[A\n",
      "\u001b[A\n",
      "\u001b[A\n",
      "\u001b[A\n",
      "\u001b[A\n",
      "\u001b[A\n",
      "\u001b[A\n",
      "\u001b[A\n",
      "\u001b[A\n",
      "\u001b[A\n",
      "\u001b[A\n",
      "\u001b[A\n",
      "\u001b[A\n",
      "\u001b[A\n",
      "\u001b[A\n",
      "\u001b[A\n",
      "\u001b[A\n",
      "\u001b[A\n",
      "\u001b[A\n",
      "\u001b[A\n",
      "\u001b[A\n",
      "\u001b[A\n",
      "\u001b[A\n",
      "\u001b[A\n",
      "\u001b[A\n",
      "\u001b[A\n",
      "\u001b[A\n",
      "\u001b[A\n",
      "\u001b[A\n",
      "\u001b[A\n",
      "\u001b[A\n",
      "\u001b[A\n",
      "\u001b[A\n",
      "\u001b[A\n",
      "\u001b[A\n",
      "\u001b[A\n",
      "\u001b[A\n",
      "\u001b[A\n",
      "\u001b[A\n",
      "\u001b[A\n",
      "\u001b[A\n",
      "\u001b[A\n",
      "\u001b[A\n",
      "\u001b[A\n",
      "\u001b[A\n",
      "\u001b[A\n",
      "\u001b[A\n",
      "\u001b[A\n",
      "\u001b[A\n",
      "\u001b[A\n",
      "\u001b[A\n",
      "\u001b[A\n",
      "\u001b[A\n",
      "\u001b[A\n",
      "\u001b[A\n",
      "\u001b[A\n",
      "\u001b[A\n",
      "\u001b[A\n",
      "\u001b[A\n",
      "\u001b[A\n",
      "\u001b[A\n",
      "\u001b[A\n",
      "\u001b[A\n",
      "\u001b[A\n",
      "\u001b[A\n",
      "\u001b[A\n",
      "\u001b[A\n",
      "\u001b[A\n",
      "\u001b[A\n",
      "\u001b[A\n",
      "\u001b[A\n",
      "\u001b[A\n",
      "\u001b[A\n",
      "\u001b[A\n",
      "\u001b[A\n",
      "\u001b[A\n",
      "\u001b[A\n",
      "\u001b[A\n",
      "\u001b[A\n",
      "\u001b[A\n",
      "\u001b[A\n",
      "\u001b[A\n",
      "\u001b[A\n",
      "\u001b[A\n",
      "\u001b[A\n",
      "\u001b[A\n",
      "\u001b[A\n",
      "                                                                 \n",
      "                                                                 \n",
      "t:   0%|          | 2/925 [13:32<104:11:46, 406.40s/it, now=None]"
     ]
    },
    {
     "name": "stdout",
     "output_type": "stream",
     "text": [
      "Moviepy - Done !\n",
      "Moviepy - video ready ../data/test/clips/video1/17_Theresa Scavenius.mp4\n"
     ]
    },
    {
     "name": "stderr",
     "output_type": "stream",
     "text": [
      "                                                                 \n",
      "                                                                 \n",
      "t:   0%|          | 2/925 [13:33<104:13:52, 406.54s/it, now=None]"
     ]
    },
    {
     "name": "stdout",
     "output_type": "stream",
     "text": [
      "Moviepy - Building video ../data/test/clips/video1/18_Soeren Gade.mp4.\n",
      "MoviePy - Writing audio in 18_Soeren GadeTEMP_MPY_wvf_snd.mp4\n"
     ]
    },
    {
     "name": "stderr",
     "output_type": "stream",
     "text": [
      "\n",
      "\u001b[A\n",
      "\u001b[A\n",
      "                                                                 \n",
      "                                                                 \n",
      "t:   0%|          | 2/925 [13:33<104:14:54, 406.60s/it, now=None]"
     ]
    },
    {
     "name": "stdout",
     "output_type": "stream",
     "text": [
      "MoviePy - Done.\n",
      "Moviepy - Writing video ../data/test/clips/video1/18_Soeren Gade.mp4\n",
      "\n"
     ]
    },
    {
     "name": "stderr",
     "output_type": "stream",
     "text": [
      "\n",
      "\u001b[A\n",
      "\u001b[A\n",
      "                                                                 \n",
      "                                                                 \n",
      "t:   0%|          | 2/925 [13:33<104:16:51, 406.73s/it, now=None]"
     ]
    },
    {
     "name": "stdout",
     "output_type": "stream",
     "text": [
      "Moviepy - Done !\n",
      "Moviepy - video ready ../data/test/clips/video1/18_Soeren Gade.mp4\n"
     ]
    },
    {
     "name": "stderr",
     "output_type": "stream",
     "text": [
      "                                                                 \n",
      "                                                                 \n",
      "t:   0%|          | 2/925 [13:33<104:19:02, 406.87s/it, now=None]"
     ]
    },
    {
     "name": "stdout",
     "output_type": "stream",
     "text": [
      "Moviepy - Building video ../data/test/clips/video1/19_Kim Valentin.mp4.\n",
      "MoviePy - Writing audio in 19_Kim ValentinTEMP_MPY_wvf_snd.mp4\n"
     ]
    },
    {
     "name": "stderr",
     "output_type": "stream",
     "text": [
      "\n",
      "\u001b[A\n",
      "\u001b[A\n",
      "\u001b[A\n",
      "\u001b[A\n",
      "\u001b[A\n",
      "\u001b[A\n",
      "\u001b[A\n",
      "                                                                 \n",
      "                                                                 \n",
      "t:   0%|          | 2/925 [13:34<104:24:16, 407.21s/it, now=None]"
     ]
    },
    {
     "name": "stdout",
     "output_type": "stream",
     "text": [
      "MoviePy - Done.\n",
      "Moviepy - Writing video ../data/test/clips/video1/19_Kim Valentin.mp4\n",
      "\n"
     ]
    },
    {
     "name": "stderr",
     "output_type": "stream",
     "text": [
      "\n",
      "\u001b[A\n",
      "\u001b[A\n",
      "\u001b[A\n",
      "\u001b[A\n",
      "\u001b[A\n",
      "\u001b[A\n",
      "\u001b[A\n",
      "\u001b[A\n",
      "\u001b[A\n",
      "\u001b[A\n",
      "\u001b[A\n",
      "\u001b[A\n",
      "                                                                 \n",
      "                                                                 \n",
      "t:   0%|          | 2/925 [13:35<104:34:43, 407.89s/it, now=None]"
     ]
    },
    {
     "name": "stdout",
     "output_type": "stream",
     "text": [
      "Moviepy - Done !\n",
      "Moviepy - video ready ../data/test/clips/video1/19_Kim Valentin.mp4\n"
     ]
    },
    {
     "name": "stderr",
     "output_type": "stream",
     "text": [
      "                                                                 \n",
      "                                                                 \n",
      "t:   0%|          | 2/925 [13:36<104:36:42, 408.02s/it, now=None]"
     ]
    },
    {
     "name": "stdout",
     "output_type": "stream",
     "text": [
      "Moviepy - Building video ../data/test/clips/video1/20_Soeren Gade.mp4.\n",
      "MoviePy - Writing audio in 20_Soeren GadeTEMP_MPY_wvf_snd.mp4\n"
     ]
    },
    {
     "name": "stderr",
     "output_type": "stream",
     "text": [
      "\n",
      "\u001b[A\n",
      "                                                                 \n",
      "                                                                 \n",
      "t:   0%|          | 2/925 [13:36<104:37:27, 408.07s/it, now=None]"
     ]
    },
    {
     "name": "stdout",
     "output_type": "stream",
     "text": [
      "MoviePy - Done.\n",
      "Moviepy - Writing video ../data/test/clips/video1/20_Soeren Gade.mp4\n",
      "\n"
     ]
    },
    {
     "name": "stderr",
     "output_type": "stream",
     "text": [
      "\n",
      "\u001b[A\n",
      "                                                                 \n",
      "                                                                 \n",
      "t:   0%|          | 2/925 [13:36<104:38:34, 408.14s/it, now=None]"
     ]
    },
    {
     "name": "stdout",
     "output_type": "stream",
     "text": [
      "Moviepy - Done !\n",
      "Moviepy - video ready ../data/test/clips/video1/20_Soeren Gade.mp4\n"
     ]
    },
    {
     "name": "stderr",
     "output_type": "stream",
     "text": [
      "                                                                 \n",
      "                                                                 \n",
      "t:   0%|          | 2/925 [13:36<104:40:38, 408.28s/it, now=None]"
     ]
    },
    {
     "name": "stdout",
     "output_type": "stream",
     "text": [
      "Moviepy - Building video ../data/test/clips/video1/21_Theresa Scavenius.mp4.\n",
      "MoviePy - Writing audio in 21_Theresa ScaveniusTEMP_MPY_wvf_snd.mp4\n"
     ]
    },
    {
     "name": "stderr",
     "output_type": "stream",
     "text": [
      "\n",
      "\u001b[A\n",
      "\u001b[A\n",
      "\u001b[A\n",
      "\u001b[A\n",
      "\u001b[A\n",
      "\u001b[A\n",
      "                                                                 \n",
      "                                                                 \n",
      "t:   0%|          | 2/925 [13:37<104:45:17, 408.58s/it, now=None]"
     ]
    },
    {
     "name": "stdout",
     "output_type": "stream",
     "text": [
      "MoviePy - Done.\n",
      "Moviepy - Writing video ../data/test/clips/video1/21_Theresa Scavenius.mp4\n",
      "\n"
     ]
    },
    {
     "name": "stderr",
     "output_type": "stream",
     "text": [
      "\n",
      "\u001b[A\n",
      "\u001b[A\n",
      "\u001b[A\n",
      "\u001b[A\n",
      "\u001b[A\n",
      "\u001b[A\n",
      "\u001b[A\n",
      "\u001b[A\n",
      "\u001b[A\n",
      "\u001b[A\n",
      "\u001b[A\n",
      "\u001b[A\n",
      "\u001b[A\n",
      "\u001b[A\n",
      "\u001b[A\n",
      "\u001b[A\n",
      "                                                                 \n",
      "                                                                 \n",
      "t:   0%|          | 2/925 [13:38<104:59:25, 409.50s/it, now=None]"
     ]
    },
    {
     "name": "stdout",
     "output_type": "stream",
     "text": [
      "Moviepy - Done !\n",
      "Moviepy - video ready ../data/test/clips/video1/21_Theresa Scavenius.mp4\n"
     ]
    },
    {
     "name": "stderr",
     "output_type": "stream",
     "text": [
      "                                                                 \n",
      "                                                                 \n",
      "t:   0%|          | 2/925 [13:39<105:01:29, 409.63s/it, now=None]"
     ]
    },
    {
     "name": "stdout",
     "output_type": "stream",
     "text": [
      "Moviepy - Building video ../data/test/clips/video1/22_Soeren Gade.mp4.\n",
      "MoviePy - Writing audio in 22_Soeren GadeTEMP_MPY_wvf_snd.mp4\n"
     ]
    },
    {
     "name": "stderr",
     "output_type": "stream",
     "text": [
      "\n",
      "\u001b[A\n",
      "                                                                 \n",
      "                                                                 \n",
      "t:   0%|          | 2/925 [13:39<105:02:21, 409.69s/it, now=None]"
     ]
    },
    {
     "name": "stdout",
     "output_type": "stream",
     "text": [
      "MoviePy - Done.\n",
      "Moviepy - Writing video ../data/test/clips/video1/22_Soeren Gade.mp4\n",
      "\n"
     ]
    },
    {
     "name": "stderr",
     "output_type": "stream",
     "text": [
      "\n",
      "\u001b[A\n",
      "                                                                 \n",
      "                                                                 \n",
      "t:   0%|          | 2/925 [13:39<105:03:46, 409.78s/it, now=None]"
     ]
    },
    {
     "name": "stdout",
     "output_type": "stream",
     "text": [
      "Moviepy - Done !\n",
      "Moviepy - video ready ../data/test/clips/video1/22_Soeren Gade.mp4\n"
     ]
    },
    {
     "name": "stderr",
     "output_type": "stream",
     "text": [
      "                                                                 \n",
      "                                                                 \n",
      "t:   0%|          | 2/925 [13:39<105:05:46, 409.91s/it, now=None]"
     ]
    },
    {
     "name": "stdout",
     "output_type": "stream",
     "text": [
      "Moviepy - Building video ../data/test/clips/video1/23_Kim Valentin.mp4.\n",
      "MoviePy - Writing audio in 23_Kim ValentinTEMP_MPY_wvf_snd.mp4\n"
     ]
    },
    {
     "name": "stderr",
     "output_type": "stream",
     "text": [
      "\n",
      "\u001b[A\n",
      "\u001b[A\n",
      "\u001b[A\n",
      "\u001b[A\n",
      "\u001b[A\n",
      "\u001b[A\n",
      "\u001b[A\n",
      "\u001b[A\n",
      "                                                                 \n",
      "                                                                 \n",
      "t:   0%|          | 2/925 [13:40<105:11:55, 410.31s/it, now=None]"
     ]
    },
    {
     "name": "stdout",
     "output_type": "stream",
     "text": [
      "MoviePy - Done.\n",
      "Moviepy - Writing video ../data/test/clips/video1/23_Kim Valentin.mp4\n",
      "\n"
     ]
    },
    {
     "name": "stderr",
     "output_type": "stream",
     "text": [
      "\n",
      "\u001b[A\n",
      "\u001b[A\n",
      "\u001b[A\n",
      "\u001b[A\n",
      "\u001b[A\n",
      "\u001b[A\n",
      "\u001b[A\n",
      "\u001b[A\n",
      "\u001b[A\n",
      "\u001b[A\n",
      "\u001b[A\n",
      "\u001b[A\n",
      "\u001b[A\n",
      "\u001b[A\n",
      "\u001b[A\n",
      "\u001b[A\n",
      "                                                                 \n",
      "                                                                 \n",
      "t:   0%|          | 2/925 [13:42<105:26:28, 411.25s/it, now=None]"
     ]
    },
    {
     "name": "stdout",
     "output_type": "stream",
     "text": [
      "Moviepy - Done !\n",
      "Moviepy - video ready ../data/test/clips/video1/23_Kim Valentin.mp4\n"
     ]
    },
    {
     "name": "stderr",
     "output_type": "stream",
     "text": [
      "                                                                 \n",
      "                                                                 \n",
      "t:   0%|          | 2/925 [13:42<105:28:28, 411.39s/it, now=None]"
     ]
    },
    {
     "name": "stdout",
     "output_type": "stream",
     "text": [
      "Moviepy - Building video ../data/test/clips/video1/24_Soeren Gade.mp4.\n",
      "MoviePy - Writing audio in 24_Soeren GadeTEMP_MPY_wvf_snd.mp4\n"
     ]
    },
    {
     "name": "stderr",
     "output_type": "stream",
     "text": [
      "\n",
      "\u001b[A\n",
      "\u001b[A\n",
      "                                                                 \n",
      "                                                                 \n",
      "t:   0%|          | 2/925 [13:42<105:29:29, 411.45s/it, now=None]"
     ]
    },
    {
     "name": "stdout",
     "output_type": "stream",
     "text": [
      "MoviePy - Done.\n",
      "Moviepy - Writing video ../data/test/clips/video1/24_Soeren Gade.mp4\n",
      "\n"
     ]
    },
    {
     "name": "stderr",
     "output_type": "stream",
     "text": [
      "\n",
      "\u001b[A\n",
      "\u001b[A\n",
      "                                                                 \n",
      "                                                                 \n",
      "t:   0%|          | 2/925 [13:43<105:31:32, 411.58s/it, now=None]"
     ]
    },
    {
     "name": "stdout",
     "output_type": "stream",
     "text": [
      "Moviepy - Done !\n",
      "Moviepy - video ready ../data/test/clips/video1/24_Soeren Gade.mp4\n"
     ]
    },
    {
     "name": "stderr",
     "output_type": "stream",
     "text": [
      "                                                                 \n",
      "                                                                 \n",
      "t:   0%|          | 2/925 [13:43<105:33:29, 411.71s/it, now=None]"
     ]
    },
    {
     "name": "stdout",
     "output_type": "stream",
     "text": [
      "Moviepy - Building video ../data/test/clips/video1/25_Theresa Scavenius.mp4.\n",
      "MoviePy - Writing audio in 25_Theresa ScaveniusTEMP_MPY_wvf_snd.mp4\n"
     ]
    },
    {
     "name": "stderr",
     "output_type": "stream",
     "text": [
      "\n",
      "\u001b[A\n",
      "\u001b[A\n",
      "\u001b[A\n",
      "\u001b[A\n",
      "\u001b[A\n",
      "\u001b[A\n",
      "\u001b[A\n",
      "\u001b[A\n",
      "\u001b[A\n",
      "\u001b[A\n",
      "\u001b[A\n",
      "                                                                 \n",
      "                                                                 \n",
      "t:   0%|          | 2/925 [13:44<105:42:05, 412.27s/it, now=None]"
     ]
    },
    {
     "name": "stdout",
     "output_type": "stream",
     "text": [
      "MoviePy - Done.\n",
      "Moviepy - Writing video ../data/test/clips/video1/25_Theresa Scavenius.mp4\n",
      "\n"
     ]
    },
    {
     "name": "stderr",
     "output_type": "stream",
     "text": [
      "\n",
      "\u001b[A\n",
      "\u001b[A\n",
      "\u001b[A\n",
      "\u001b[A\n",
      "\u001b[A\n",
      "\u001b[A\n",
      "\u001b[A\n",
      "\u001b[A\n",
      "\u001b[A\n",
      "\u001b[A\n",
      "\u001b[A\n",
      "\u001b[A\n",
      "\u001b[A\n",
      "\u001b[A\n",
      "\u001b[A\n",
      "\u001b[A\n",
      "\u001b[A\n",
      "\u001b[A\n",
      "\u001b[A\n",
      "\u001b[A\n",
      "\u001b[A\n",
      "\u001b[A\n",
      "\u001b[A\n",
      "\u001b[A\n",
      "\u001b[A\n",
      "                                                                 \n",
      "                                                                 \n",
      "t:   0%|          | 2/925 [13:47<106:03:00, 413.63s/it, now=None]"
     ]
    },
    {
     "name": "stdout",
     "output_type": "stream",
     "text": [
      "Moviepy - Done !\n",
      "Moviepy - video ready ../data/test/clips/video1/25_Theresa Scavenius.mp4\n"
     ]
    },
    {
     "name": "stderr",
     "output_type": "stream",
     "text": [
      "                                                                 \n",
      "                                                                 \n",
      "t:   0%|          | 2/925 [13:47<106:05:14, 413.78s/it, now=None]"
     ]
    },
    {
     "name": "stdout",
     "output_type": "stream",
     "text": [
      "Moviepy - Building video ../data/test/clips/video1/26_Soeren Gade.mp4.\n",
      "MoviePy - Writing audio in 26_Soeren GadeTEMP_MPY_wvf_snd.mp4\n"
     ]
    },
    {
     "name": "stderr",
     "output_type": "stream",
     "text": [
      "\n",
      "\u001b[A\n",
      "\u001b[A\n",
      "\u001b[A\n",
      "\u001b[A\n",
      "\u001b[A\n",
      "\u001b[A\n",
      "\u001b[A\n",
      "                                                                 \n",
      "                                                                 \n",
      "t:   0%|          | 2/925 [13:48<106:10:27, 414.11s/it, now=None]"
     ]
    },
    {
     "name": "stdout",
     "output_type": "stream",
     "text": [
      "MoviePy - Done.\n",
      "Moviepy - Writing video ../data/test/clips/video1/26_Soeren Gade.mp4\n",
      "\n"
     ]
    },
    {
     "name": "stderr",
     "output_type": "stream",
     "text": [
      "\n",
      "\u001b[A\n",
      "\u001b[A\n",
      "\u001b[A\n",
      "\u001b[A\n",
      "\u001b[A\n",
      "\u001b[A\n",
      "\u001b[A\n",
      "\u001b[A\n",
      "\u001b[A\n",
      "\u001b[A\n",
      "\u001b[A\n",
      "\u001b[A\n",
      "\u001b[A\n",
      "\u001b[A\n",
      "\u001b[A\n",
      "\u001b[A\n",
      "\u001b[A\n",
      "\u001b[A\n",
      "                                                                 \n",
      "                                                                 \n",
      "t:   0%|          | 2/925 [13:50<106:25:28, 415.09s/it, now=None]"
     ]
    },
    {
     "name": "stdout",
     "output_type": "stream",
     "text": [
      "Moviepy - Done !\n",
      "Moviepy - video ready ../data/test/clips/video1/26_Soeren Gade.mp4\n"
     ]
    },
    {
     "name": "stderr",
     "output_type": "stream",
     "text": [
      "                                                                 \n",
      "                                                                 \n",
      "t:   0%|          | 2/925 [13:50<106:27:30, 415.22s/it, now=None]"
     ]
    },
    {
     "name": "stdout",
     "output_type": "stream",
     "text": [
      "Moviepy - Building video ../data/test/clips/video1/27_Alex Ahrendtsen.mp4.\n",
      "MoviePy - Writing audio in 27_Alex AhrendtsenTEMP_MPY_wvf_snd.mp4\n"
     ]
    },
    {
     "name": "stderr",
     "output_type": "stream",
     "text": [
      "\n",
      "\u001b[A\n",
      "\u001b[A\n",
      "\u001b[A\n",
      "\u001b[A\n",
      "\u001b[A\n",
      "\u001b[A\n",
      "\u001b[A\n",
      "\u001b[A\n",
      "\u001b[A\n",
      "\u001b[A\n",
      "\u001b[A\n",
      "\u001b[A\n",
      "\u001b[A\n",
      "\u001b[A\n",
      "\u001b[A\n",
      "\u001b[A\n",
      "\u001b[A\n",
      "\u001b[A\n",
      "\u001b[A\n",
      "\u001b[A\n",
      "\u001b[A\n",
      "\u001b[A\n",
      "\u001b[A\n",
      "\u001b[A\n",
      "\u001b[A\n",
      "\u001b[A\n",
      "\u001b[A\n",
      "\u001b[A\n",
      "\u001b[A\n",
      "\u001b[A\n",
      "\u001b[A\n",
      "\u001b[A\n",
      "\u001b[A\n",
      "\u001b[A\n",
      "\u001b[A\n",
      "\u001b[A\n",
      "\u001b[A\n",
      "\u001b[A\n",
      "\u001b[A\n",
      "\u001b[A\n",
      "\u001b[A\n",
      "\u001b[A\n",
      "                                                                 \n",
      "                                                                 \n",
      "t:   0%|          | 2/925 [13:54<107:01:37, 417.44s/it, now=None]"
     ]
    },
    {
     "name": "stdout",
     "output_type": "stream",
     "text": [
      "MoviePy - Done.\n",
      "Moviepy - Writing video ../data/test/clips/video1/27_Alex Ahrendtsen.mp4\n",
      "\n"
     ]
    },
    {
     "name": "stderr",
     "output_type": "stream",
     "text": [
      "\n",
      "\u001b[A\n",
      "\u001b[A\n",
      "\u001b[A\n",
      "\u001b[A\n",
      "\u001b[A\n",
      "\u001b[A\n",
      "\u001b[A\n",
      "\u001b[A\n",
      "\u001b[A\n",
      "\u001b[A\n",
      "\u001b[A\n",
      "\u001b[A\n",
      "\u001b[A\n",
      "\u001b[A\n",
      "\u001b[A\n",
      "\u001b[A\n",
      "\u001b[A\n",
      "\u001b[A\n",
      "\u001b[A\n",
      "\u001b[A\n",
      "\u001b[A\n",
      "\u001b[A\n",
      "\u001b[A\n",
      "\u001b[A\n",
      "\u001b[A\n",
      "\u001b[A\n",
      "\u001b[A\n",
      "\u001b[A\n",
      "\u001b[A\n",
      "\u001b[A\n",
      "\u001b[A\n",
      "\u001b[A\n",
      "\u001b[A\n",
      "\u001b[A\n",
      "\u001b[A\n",
      "\u001b[A\n",
      "\u001b[A\n",
      "\u001b[A\n",
      "\u001b[A\n",
      "\u001b[A\n",
      "\u001b[A\n",
      "\u001b[A\n",
      "\u001b[A\n",
      "\u001b[A\n",
      "\u001b[A\n",
      "\u001b[A\n",
      "\u001b[A\n",
      "\u001b[A\n",
      "\u001b[A\n",
      "\u001b[A\n",
      "\u001b[A\n",
      "\u001b[A\n",
      "\u001b[A\n",
      "\u001b[A\n",
      "\u001b[A\n",
      "\u001b[A\n",
      "\u001b[A\n",
      "\u001b[A\n",
      "\u001b[A\n",
      "\u001b[A\n",
      "\u001b[A\n",
      "\u001b[A\n",
      "\u001b[A\n",
      "\u001b[A\n",
      "\u001b[A\n",
      "\u001b[A\n",
      "\u001b[A\n",
      "\u001b[A\n",
      "\u001b[A\n",
      "\u001b[A\n",
      "\u001b[A\n",
      "\u001b[A\n",
      "\u001b[A\n",
      "\u001b[A\n",
      "\u001b[A\n",
      "\u001b[A\n",
      "\u001b[A\n",
      "\u001b[A\n",
      "\u001b[A\n",
      "\u001b[A\n",
      "\u001b[A\n",
      "\u001b[A\n",
      "\u001b[A\n",
      "\u001b[A\n",
      "\u001b[A\n",
      "\u001b[A\n",
      "\u001b[A\n",
      "\u001b[A\n",
      "\u001b[A\n",
      "\u001b[A\n",
      "\u001b[A\n",
      "\u001b[A\n",
      "\u001b[A\n",
      "\u001b[A\n",
      "\u001b[A\n",
      "\u001b[A\n",
      "\u001b[A\n",
      "\u001b[A\n",
      "                                                                 \n",
      "                                                                 \n",
      "t:   0%|          | 2/925 [14:05<108:23:51, 422.79s/it, now=None]"
     ]
    },
    {
     "name": "stdout",
     "output_type": "stream",
     "text": [
      "Moviepy - Done !\n",
      "Moviepy - video ready ../data/test/clips/video1/27_Alex Ahrendtsen.mp4\n"
     ]
    },
    {
     "name": "stderr",
     "output_type": "stream",
     "text": [
      "                                                                 \n",
      "                                                                 \n",
      "t:   0%|          | 2/925 [14:05<108:26:00, 422.93s/it, now=None]"
     ]
    },
    {
     "name": "stdout",
     "output_type": "stream",
     "text": [
      "Moviepy - Building video ../data/test/clips/video1/28_Soeren Gade.mp4.\n",
      "MoviePy - Writing audio in 28_Soeren GadeTEMP_MPY_wvf_snd.mp4\n"
     ]
    },
    {
     "name": "stderr",
     "output_type": "stream",
     "text": [
      "\n",
      "\u001b[A\n",
      "\u001b[A\n",
      "                                                                 \n",
      "                                                                 \n",
      "t:   0%|          | 2/925 [14:06<108:27:46, 423.04s/it, now=None]"
     ]
    },
    {
     "name": "stdout",
     "output_type": "stream",
     "text": [
      "MoviePy - Done.\n",
      "Moviepy - Writing video ../data/test/clips/video1/28_Soeren Gade.mp4\n",
      "\n"
     ]
    },
    {
     "name": "stderr",
     "output_type": "stream",
     "text": [
      "\n",
      "\u001b[A\n",
      "\u001b[A\n",
      "\u001b[A\n",
      "                                                                 \n",
      "                                                                 \n",
      "t:   0%|          | 2/925 [14:06<108:30:43, 423.23s/it, now=None]"
     ]
    },
    {
     "name": "stdout",
     "output_type": "stream",
     "text": [
      "Moviepy - Done !\n",
      "Moviepy - video ready ../data/test/clips/video1/28_Soeren Gade.mp4\n"
     ]
    },
    {
     "name": "stderr",
     "output_type": "stream",
     "text": [
      "                                                                 \n",
      "                                                                 \n",
      "t:   0%|          | 2/925 [14:06<108:32:51, 423.37s/it, now=None]"
     ]
    },
    {
     "name": "stdout",
     "output_type": "stream",
     "text": [
      "Moviepy - Building video ../data/test/clips/video1/29_Kim Valentin.mp4.\n",
      "MoviePy - Writing audio in 29_Kim ValentinTEMP_MPY_wvf_snd.mp4\n"
     ]
    },
    {
     "name": "stderr",
     "output_type": "stream",
     "text": [
      "\n",
      "\u001b[A\n",
      "\u001b[A\n",
      "\u001b[A\n",
      "\u001b[A\n",
      "\u001b[A\n",
      "\u001b[A\n",
      "\u001b[A\n",
      "\u001b[A\n",
      "\u001b[A\n",
      "\u001b[A\n",
      "\u001b[A\n",
      "\u001b[A\n",
      "                                                                 \n",
      "                                                                 \n",
      "t:   0%|          | 2/925 [14:07<108:42:29, 424.00s/it, now=None]"
     ]
    },
    {
     "name": "stdout",
     "output_type": "stream",
     "text": [
      "MoviePy - Done.\n",
      "Moviepy - Writing video ../data/test/clips/video1/29_Kim Valentin.mp4\n",
      "\n"
     ]
    },
    {
     "name": "stderr",
     "output_type": "stream",
     "text": [
      "\n",
      "\u001b[A\n",
      "\u001b[A\n",
      "\u001b[A\n",
      "\u001b[A\n",
      "\u001b[A\n",
      "\u001b[A\n",
      "\u001b[A\n",
      "\u001b[A\n",
      "\u001b[A\n",
      "\u001b[A\n",
      "\u001b[A\n",
      "\u001b[A\n",
      "\u001b[A\n",
      "\u001b[A\n",
      "\u001b[A\n",
      "\u001b[A\n",
      "\u001b[A\n",
      "\u001b[A\n",
      "\u001b[A\n",
      "\u001b[A\n",
      "\u001b[A\n",
      "\u001b[A\n",
      "                                                                 \n",
      "                                                                 \n",
      "t:   0%|          | 2/925 [14:10<109:01:20, 425.22s/it, now=None]"
     ]
    },
    {
     "name": "stdout",
     "output_type": "stream",
     "text": [
      "Moviepy - Done !\n",
      "Moviepy - video ready ../data/test/clips/video1/29_Kim Valentin.mp4\n"
     ]
    },
    {
     "name": "stderr",
     "output_type": "stream",
     "text": [
      "                                                                 \n",
      "                                                                 \n",
      "t:   0%|          | 2/925 [14:10<109:03:17, 425.35s/it, now=None]"
     ]
    },
    {
     "name": "stdout",
     "output_type": "stream",
     "text": [
      "Moviepy - Building video ../data/test/clips/video1/30_Soeren Gade.mp4.\n",
      "MoviePy - Writing audio in 30_Soeren GadeTEMP_MPY_wvf_snd.mp4\n"
     ]
    },
    {
     "name": "stderr",
     "output_type": "stream",
     "text": [
      "\n",
      "\u001b[A\n",
      "\u001b[A\n",
      "                                                                 \n",
      "                                                                 \n",
      "t:   0%|          | 2/925 [14:10<109:04:21, 425.42s/it, now=None]"
     ]
    },
    {
     "name": "stdout",
     "output_type": "stream",
     "text": [
      "MoviePy - Done.\n",
      "Moviepy - Writing video ../data/test/clips/video1/30_Soeren Gade.mp4\n",
      "\n"
     ]
    },
    {
     "name": "stderr",
     "output_type": "stream",
     "text": [
      "\n",
      "\u001b[A\n",
      "                                                                 \n",
      "                                                                 \n",
      "t:   0%|          | 2/925 [14:11<109:05:49, 425.51s/it, now=None]"
     ]
    },
    {
     "name": "stdout",
     "output_type": "stream",
     "text": [
      "Moviepy - Done !\n",
      "Moviepy - video ready ../data/test/clips/video1/30_Soeren Gade.mp4\n"
     ]
    },
    {
     "name": "stderr",
     "output_type": "stream",
     "text": [
      "                                                                 \n",
      "                                                                 \n",
      "t:   0%|          | 2/925 [14:11<109:07:49, 425.64s/it, now=None]"
     ]
    },
    {
     "name": "stdout",
     "output_type": "stream",
     "text": [
      "Moviepy - Building video ../data/test/clips/video1/31_Alex Ahrendtsen.mp4.\n",
      "MoviePy - Writing audio in 31_Alex AhrendtsenTEMP_MPY_wvf_snd.mp4\n"
     ]
    },
    {
     "name": "stderr",
     "output_type": "stream",
     "text": [
      "\n",
      "\u001b[A\n",
      "\u001b[A\n",
      "\u001b[A\n",
      "\u001b[A\n",
      "\u001b[A\n",
      "\u001b[A\n",
      "                                                                 \n",
      "                                                                 \n",
      "t:   0%|          | 2/925 [14:11<109:12:28, 425.95s/it, now=None]"
     ]
    },
    {
     "name": "stdout",
     "output_type": "stream",
     "text": [
      "MoviePy - Done.\n",
      "Moviepy - Writing video ../data/test/clips/video1/31_Alex Ahrendtsen.mp4\n",
      "\n"
     ]
    },
    {
     "name": "stderr",
     "output_type": "stream",
     "text": [
      "\n",
      "\u001b[A\n",
      "\u001b[A\n",
      "\u001b[A\n",
      "\u001b[A\n",
      "\u001b[A\n",
      "\u001b[A\n",
      "\u001b[A\n",
      "\u001b[A\n",
      "\u001b[A\n",
      "                                                                 \n",
      "                                                                 \n",
      "t:   0%|          | 2/925 [14:12<109:20:48, 426.49s/it, now=None]"
     ]
    },
    {
     "name": "stdout",
     "output_type": "stream",
     "text": [
      "Moviepy - Done !\n",
      "Moviepy - video ready ../data/test/clips/video1/31_Alex Ahrendtsen.mp4\n"
     ]
    },
    {
     "name": "stderr",
     "output_type": "stream",
     "text": [
      "                                                                 \n",
      "                                                                 \n",
      "t:   0%|          | 2/925 [14:13<109:22:54, 426.62s/it, now=None]"
     ]
    },
    {
     "name": "stdout",
     "output_type": "stream",
     "text": [
      "Moviepy - Building video ../data/test/clips/video1/32_Soeren Gade.mp4.\n",
      "MoviePy - Writing audio in 32_Soeren GadeTEMP_MPY_wvf_snd.mp4\n"
     ]
    },
    {
     "name": "stderr",
     "output_type": "stream",
     "text": [
      "\n",
      "\u001b[A\n",
      "\u001b[A\n",
      "                                                                 \n",
      "                                                                 \n",
      "t:   0%|          | 2/925 [14:13<109:23:57, 426.69s/it, now=None]"
     ]
    },
    {
     "name": "stdout",
     "output_type": "stream",
     "text": [
      "MoviePy - Done.\n",
      "Moviepy - Writing video ../data/test/clips/video1/32_Soeren Gade.mp4\n",
      "\n"
     ]
    },
    {
     "name": "stderr",
     "output_type": "stream",
     "text": [
      "\n",
      "\u001b[A\n",
      "\u001b[A\n",
      "                                                                 \n",
      "                                                                 \n",
      "t:   0%|          | 2/925 [14:13<109:28:01, 426.96s/it, now=None]"
     ]
    },
    {
     "name": "stdout",
     "output_type": "stream",
     "text": [
      "Moviepy - Done !\n",
      "Moviepy - video ready ../data/test/clips/video1/32_Soeren Gade.mp4\n"
     ]
    },
    {
     "name": "stderr",
     "output_type": "stream",
     "text": [
      "                                                                 \n",
      "                                                                 \n",
      "t:   0%|          | 2/925 [14:14<109:30:34, 427.12s/it, now=None]"
     ]
    },
    {
     "name": "stdout",
     "output_type": "stream",
     "text": [
      "Moviepy - Building video ../data/test/clips/video1/33_Kim Valentin.mp4.\n",
      "MoviePy - Writing audio in 33_Kim ValentinTEMP_MPY_wvf_snd.mp4\n"
     ]
    },
    {
     "name": "stderr",
     "output_type": "stream",
     "text": [
      "\n",
      "\u001b[A\n",
      "\u001b[A\n",
      "\u001b[A\n",
      "\u001b[A\n",
      "                                                                 \n",
      "                                                                 \n",
      "t:   0%|          | 2/925 [14:14<109:33:40, 427.32s/it, now=None]"
     ]
    },
    {
     "name": "stdout",
     "output_type": "stream",
     "text": [
      "MoviePy - Done.\n",
      "Moviepy - Writing video ../data/test/clips/video1/33_Kim Valentin.mp4\n",
      "\n"
     ]
    },
    {
     "name": "stderr",
     "output_type": "stream",
     "text": [
      "\n",
      "\u001b[A\n",
      "\u001b[A\n",
      "\u001b[A\n",
      "\u001b[A\n",
      "\u001b[A\n",
      "\u001b[A\n",
      "\u001b[A\n",
      "\u001b[A\n",
      "\u001b[A\n",
      "                                                                 \n",
      "                                                                 \n",
      "t:   0%|          | 2/925 [14:15<109:41:43, 427.85s/it, now=None]"
     ]
    },
    {
     "name": "stdout",
     "output_type": "stream",
     "text": [
      "Moviepy - Done !\n",
      "Moviepy - video ready ../data/test/clips/video1/33_Kim Valentin.mp4\n"
     ]
    },
    {
     "name": "stderr",
     "output_type": "stream",
     "text": [
      "                                                                 \n",
      "                                                                 \n",
      "t:   0%|          | 2/925 [14:15<109:43:41, 427.98s/it, now=None]"
     ]
    },
    {
     "name": "stdout",
     "output_type": "stream",
     "text": [
      "Moviepy - Building video ../data/test/clips/video1/34_Soeren Gade.mp4.\n",
      "MoviePy - Writing audio in 34_Soeren GadeTEMP_MPY_wvf_snd.mp4\n"
     ]
    },
    {
     "name": "stderr",
     "output_type": "stream",
     "text": [
      "\n",
      "\u001b[A\n",
      "                                                                 \n",
      "                                                                 \n",
      "t:   0%|          | 2/925 [14:16<109:44:28, 428.03s/it, now=None]"
     ]
    },
    {
     "name": "stdout",
     "output_type": "stream",
     "text": [
      "MoviePy - Done.\n",
      "Moviepy - Writing video ../data/test/clips/video1/34_Soeren Gade.mp4\n",
      "\n"
     ]
    },
    {
     "name": "stderr",
     "output_type": "stream",
     "text": [
      "\n",
      "\u001b[A\n",
      "                                                                 \n",
      "                                                                 \n",
      "t:   0%|          | 2/925 [14:16<109:45:31, 428.09s/it, now=None]"
     ]
    },
    {
     "name": "stdout",
     "output_type": "stream",
     "text": [
      "Moviepy - Done !\n",
      "Moviepy - video ready ../data/test/clips/video1/34_Soeren Gade.mp4\n"
     ]
    },
    {
     "name": "stderr",
     "output_type": "stream",
     "text": [
      "                                                                 \n",
      "                                                                 \n",
      "t:   0%|          | 2/925 [14:16<109:47:32, 428.23s/it, now=None]"
     ]
    },
    {
     "name": "stdout",
     "output_type": "stream",
     "text": [
      "Moviepy - Building video ../data/test/clips/video1/35_Alex Ahrendtsen.mp4.\n",
      "MoviePy - Writing audio in 35_Alex AhrendtsenTEMP_MPY_wvf_snd.mp4\n"
     ]
    },
    {
     "name": "stderr",
     "output_type": "stream",
     "text": [
      "\n",
      "\u001b[A\n",
      "\u001b[A\n",
      "\u001b[A\n",
      "\u001b[A\n",
      "                                                                 \n",
      "                                                                 \n",
      "t:   0%|          | 2/925 [14:16<109:50:06, 428.39s/it, now=None]"
     ]
    },
    {
     "name": "stdout",
     "output_type": "stream",
     "text": [
      "MoviePy - Done.\n",
      "Moviepy - Writing video ../data/test/clips/video1/35_Alex Ahrendtsen.mp4\n",
      "\n"
     ]
    },
    {
     "name": "stderr",
     "output_type": "stream",
     "text": [
      "\n",
      "\u001b[A\n",
      "\u001b[A\n",
      "\u001b[A\n",
      "\u001b[A\n",
      "\u001b[A\n",
      "\u001b[A\n",
      "                                                                 \n",
      "                                                                 \n",
      "t:   0%|          | 2/925 [14:17<109:55:35, 428.75s/it, now=None]"
     ]
    },
    {
     "name": "stdout",
     "output_type": "stream",
     "text": [
      "Moviepy - Done !\n",
      "Moviepy - video ready ../data/test/clips/video1/35_Alex Ahrendtsen.mp4\n"
     ]
    },
    {
     "name": "stderr",
     "output_type": "stream",
     "text": [
      "                                                                 \n",
      "                                                                 \n",
      "t:   0%|          | 2/925 [14:17<109:57:35, 428.88s/it, now=None]"
     ]
    },
    {
     "name": "stdout",
     "output_type": "stream",
     "text": [
      "Moviepy - Building video ../data/test/clips/video1/36_Soeren Gade.mp4.\n",
      "MoviePy - Writing audio in 36_Soeren GadeTEMP_MPY_wvf_snd.mp4\n"
     ]
    },
    {
     "name": "stderr",
     "output_type": "stream",
     "text": [
      "\n",
      "\u001b[A\n",
      "\u001b[A\n",
      "                                                                 \n",
      "                                                                 \n",
      "t:   0%|          | 2/925 [14:17<109:59:02, 428.97s/it, now=None]"
     ]
    },
    {
     "name": "stdout",
     "output_type": "stream",
     "text": [
      "MoviePy - Done.\n",
      "Moviepy - Writing video ../data/test/clips/video1/36_Soeren Gade.mp4\n",
      "\n"
     ]
    },
    {
     "name": "stderr",
     "output_type": "stream",
     "text": [
      "\n",
      "\u001b[A\n",
      "\u001b[A\n",
      "\u001b[A\n",
      "                                                                 \n",
      "                                                                 \n",
      "t:   0%|          | 2/925 [14:18<110:02:05, 429.17s/it, now=None]"
     ]
    },
    {
     "name": "stdout",
     "output_type": "stream",
     "text": [
      "Moviepy - Done !\n",
      "Moviepy - video ready ../data/test/clips/video1/36_Soeren Gade.mp4\n"
     ]
    },
    {
     "name": "stderr",
     "output_type": "stream",
     "text": [
      "                                                                 \n",
      "                                                                 \n",
      "t:   0%|          | 2/925 [14:18<110:04:17, 429.31s/it, now=None]"
     ]
    },
    {
     "name": "stdout",
     "output_type": "stream",
     "text": [
      "Moviepy - Building video ../data/test/clips/video1/37_Thomas Danielsen.mp4.\n",
      "MoviePy - Writing audio in 37_Thomas DanielsenTEMP_MPY_wvf_snd.mp4\n"
     ]
    },
    {
     "name": "stderr",
     "output_type": "stream",
     "text": [
      "\n",
      "\u001b[A\n",
      "\u001b[A\n",
      "\u001b[A\n",
      "\u001b[A\n",
      "\u001b[A\n",
      "\u001b[A\n",
      "\u001b[A\n",
      "\u001b[A\n",
      "                                                                 \n",
      "                                                                 \n",
      "t:   0%|          | 2/925 [14:19<110:10:10, 429.70s/it, now=None]"
     ]
    },
    {
     "name": "stdout",
     "output_type": "stream",
     "text": [
      "MoviePy - Done.\n",
      "Moviepy - Writing video ../data/test/clips/video1/37_Thomas Danielsen.mp4\n",
      "\n"
     ]
    },
    {
     "name": "stderr",
     "output_type": "stream",
     "text": [
      "\n",
      "\u001b[A\n",
      "\u001b[A\n",
      "\u001b[A\n",
      "\u001b[A\n",
      "\u001b[A\n",
      "\u001b[A\n",
      "\u001b[A\n",
      "\u001b[A\n",
      "\u001b[A\n",
      "\u001b[A\n",
      "\u001b[A\n",
      "\u001b[A\n",
      "\u001b[A\n",
      "\u001b[A\n",
      "\u001b[A\n",
      "\u001b[A\n",
      "\u001b[A\n",
      "                                                                 \n",
      "                                                                 \n",
      "t:   0%|          | 2/925 [14:21<110:24:26, 430.62s/it, now=None]"
     ]
    },
    {
     "name": "stdout",
     "output_type": "stream",
     "text": [
      "Moviepy - Done !\n",
      "Moviepy - video ready ../data/test/clips/video1/37_Thomas Danielsen.mp4\n"
     ]
    },
    {
     "name": "stderr",
     "output_type": "stream",
     "text": [
      "                                                                 \n",
      "                                                                 \n",
      "t:   0%|          | 2/925 [14:21<110:26:29, 430.76s/it, now=None]"
     ]
    },
    {
     "name": "stdout",
     "output_type": "stream",
     "text": [
      "Moviepy - Building video ../data/test/clips/video1/38_Soeren Gade.mp4.\n",
      "MoviePy - Writing audio in 38_Soeren GadeTEMP_MPY_wvf_snd.mp4\n"
     ]
    },
    {
     "name": "stderr",
     "output_type": "stream",
     "text": [
      "\n",
      "\u001b[A\n",
      "                                                                 \n",
      "                                                                 \n",
      "t:   0%|          | 2/925 [14:21<110:27:23, 430.82s/it, now=None]"
     ]
    },
    {
     "name": "stdout",
     "output_type": "stream",
     "text": [
      "MoviePy - Done.\n",
      "Moviepy - Writing video ../data/test/clips/video1/38_Soeren Gade.mp4\n",
      "\n"
     ]
    },
    {
     "name": "stderr",
     "output_type": "stream",
     "text": [
      "\n",
      "\u001b[A\n",
      "                                                                 \n",
      "                                                                 \n",
      "t:   0%|          | 2/925 [14:21<110:28:44, 430.90s/it, now=None]"
     ]
    },
    {
     "name": "stdout",
     "output_type": "stream",
     "text": [
      "Moviepy - Done !\n",
      "Moviepy - video ready ../data/test/clips/video1/38_Soeren Gade.mp4\n"
     ]
    },
    {
     "name": "stderr",
     "output_type": "stream",
     "text": [
      "                                                                 \n",
      "                                                                 \n",
      "t:   0%|          | 2/925 [14:22<110:30:44, 431.03s/it, now=None]"
     ]
    },
    {
     "name": "stdout",
     "output_type": "stream",
     "text": [
      "Moviepy - Building video ../data/test/clips/video1/39_Alex Ahrendtsen.mp4.\n",
      "MoviePy - Writing audio in 39_Alex AhrendtsenTEMP_MPY_wvf_snd.mp4\n"
     ]
    },
    {
     "name": "stderr",
     "output_type": "stream",
     "text": [
      "\n",
      "\u001b[A\n",
      "\u001b[A\n",
      "\u001b[A\n",
      "\u001b[A\n",
      "\u001b[A\n",
      "\u001b[A\n",
      "\u001b[A\n",
      "\u001b[A\n",
      "\u001b[A\n",
      "\u001b[A\n",
      "\u001b[A\n",
      "\u001b[A\n",
      "\u001b[A\n",
      "                                                                 \n",
      "                                                                 \n",
      "t:   0%|          | 2/925 [14:23<110:41:12, 431.71s/it, now=None]"
     ]
    },
    {
     "name": "stdout",
     "output_type": "stream",
     "text": [
      "MoviePy - Done.\n",
      "Moviepy - Writing video ../data/test/clips/video1/39_Alex Ahrendtsen.mp4\n",
      "\n"
     ]
    },
    {
     "name": "stderr",
     "output_type": "stream",
     "text": [
      "\n",
      "\u001b[A\n",
      "\u001b[A\n",
      "\u001b[A\n",
      "\u001b[A\n",
      "\u001b[A\n",
      "\u001b[A\n",
      "\u001b[A\n",
      "\u001b[A\n",
      "\u001b[A\n",
      "\u001b[A\n",
      "\u001b[A\n",
      "\u001b[A\n",
      "\u001b[A\n",
      "\u001b[A\n",
      "\u001b[A\n",
      "\u001b[A\n",
      "\u001b[A\n",
      "\u001b[A\n",
      "\u001b[A\n",
      "\u001b[A\n",
      "\u001b[A\n",
      "\u001b[A\n",
      "\u001b[A\n",
      "\u001b[A\n",
      "\u001b[A\n",
      "\u001b[A\n",
      "                                                                 \n",
      "                                                                 \n",
      "t:   0%|          | 2/925 [14:26<111:03:44, 433.18s/it, now=None]"
     ]
    },
    {
     "name": "stdout",
     "output_type": "stream",
     "text": [
      "Moviepy - Done !\n",
      "Moviepy - video ready ../data/test/clips/video1/39_Alex Ahrendtsen.mp4\n"
     ]
    },
    {
     "name": "stderr",
     "output_type": "stream",
     "text": [
      "                                                                 \n",
      "                                                                 \n",
      "t:   0%|          | 2/925 [14:26<111:05:43, 433.31s/it, now=None]"
     ]
    },
    {
     "name": "stdout",
     "output_type": "stream",
     "text": [
      "Moviepy - Building video ../data/test/clips/video1/40_Soeren Gade.mp4.\n",
      "MoviePy - Writing audio in 40_Soeren GadeTEMP_MPY_wvf_snd.mp4\n"
     ]
    },
    {
     "name": "stderr",
     "output_type": "stream",
     "text": [
      "\n",
      "\u001b[A\n",
      "\u001b[A\n",
      "\u001b[A\n",
      "\u001b[A\n",
      "\u001b[A\n",
      "\u001b[A\n",
      "                                                                 \n",
      "                                                                 \n",
      "t:   0%|          | 2/925 [14:27<111:09:52, 433.58s/it, now=None]"
     ]
    },
    {
     "name": "stdout",
     "output_type": "stream",
     "text": [
      "MoviePy - Done.\n",
      "Moviepy - Writing video ../data/test/clips/video1/40_Soeren Gade.mp4\n",
      "\n"
     ]
    },
    {
     "name": "stderr",
     "output_type": "stream",
     "text": [
      "\n",
      "\u001b[A\n",
      "\u001b[A\n",
      "\u001b[A\n",
      "\u001b[A\n",
      "\u001b[A\n",
      "\u001b[A\n",
      "\u001b[A\n",
      "\u001b[A\n",
      "\u001b[A\n",
      "\u001b[A\n",
      "\u001b[A\n",
      "\u001b[A\n",
      "\u001b[A\n",
      "\u001b[A\n",
      "                                                                 \n",
      "                                                                 \n",
      "t:   0%|          | 2/925 [14:28<111:23:26, 434.46s/it, now=None]"
     ]
    },
    {
     "name": "stdout",
     "output_type": "stream",
     "text": [
      "Moviepy - Done !\n",
      "Moviepy - video ready ../data/test/clips/video1/40_Soeren Gade.mp4\n"
     ]
    }
   ],
   "source": [
    "# Path to your MP4 video file\n",
    "video_file_path = '../data/video/VOD_08-12-2022_M__de_i_salen.mp4'\n",
    "# loop over rows in df and trim and save video\n",
    "for index, row in df.iterrows():\n",
    "    # Create filename\n",
    "    filename = f\"{index}_{row['Name']}.mp4\"\n",
    "    # Create path\n",
    "    path = f\"../data/test/clips/video1/{filename}\"\n",
    "    # Trim video\n",
    "    trim_video(video_file_path, row['Start'], row['End'], path)"
   ]
  }
 ],
 "metadata": {
  "kernelspec": {
   "display_name": "audio_env",
   "language": "python",
   "name": "python3"
  },
  "language_info": {
   "codemirror_mode": {
    "name": "ipython",
    "version": 3
   },
   "file_extension": ".py",
   "mimetype": "text/x-python",
   "name": "python",
   "nbconvert_exporter": "python",
   "pygments_lexer": "ipython3",
   "version": "3.11.6"
  }
 },
 "nbformat": 4,
 "nbformat_minor": 2
}
