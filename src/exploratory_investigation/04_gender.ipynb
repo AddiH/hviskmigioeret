{
 "cells": [
  {
   "cell_type": "code",
   "execution_count": 13,
   "metadata": {},
   "outputs": [],
   "source": [
    "import pandas as pd\n",
    "from evaluate import load\n",
    "wer = load(\"wer\")\n",
    "# load in \"results_with_gender.csv\"\n",
    "gender = pd.read_csv('results_with_gender.csv')\n"
   ]
  },
  {
   "cell_type": "code",
   "execution_count": 17,
   "metadata": {},
   "outputs": [
    {
     "name": "stdout",
     "output_type": "stream",
     "text": [
      "Index(['file', 'folketinget', 'whisper-tiny', 'whisper-small',\n",
      "       'whisper-medium', 'whisper-large-v2', 'hviske', 'whisper-tiny_WER',\n",
      "       'whisper-small_WER', 'whisper-medium_WER', 'whisper-large-v2_WER',\n",
      "       'hviske_WER', 'folketinget_norm', 'whisper-tiny_norm',\n",
      "       'whisper-small_norm', 'whisper-medium_norm', 'whisper-large-v2_norm',\n",
      "       'hviske_norm', 'whisper-tiny_norm_WER', 'whisper-small_norm_WER',\n",
      "       'whisper-medium_norm_WER', 'whisper-large-v2_norm_WER',\n",
      "       'hviske_norm_WER'],\n",
      "      dtype='object')\n",
      "Index(['Unnamed: 0', 'file', 'folketinget', 'whisper.tiny', 'whisper.small',\n",
      "       'whisper.medium', 'whisper.large.v2', 'hviske', 'whisper.tiny_WER',\n",
      "       'whisper.small_WER', 'whisper.medium_WER', 'whisper.large.v2_WER',\n",
      "       'hviske_WER', 'folketinget_norm', 'whisper.tiny_norm',\n",
      "       'whisper.small_norm', 'whisper.medium_norm', 'whisper.large.v2_norm',\n",
      "       'hviske_norm', 'whisper.tiny_norm_WER', 'whisper.small_norm_WER',\n",
      "       'whisper.medium_norm_WER', 'whisper.large.v2_norm_WER',\n",
      "       'hviske_norm_WER', 'Speaker', 'Female', 'Age', 'Storkreds', 'Parti',\n",
      "       'Gender'],\n",
      "      dtype='object')\n",
      "True\n"
     ]
    }
   ],
   "source": [
    "# ensure nothing went wrong when adding gender\n",
    "no_gender = pd.read_csv(\"../../data/results.csv\")\n",
    "print(len(no_gender) == len(gender))"
   ]
  },
  {
   "cell_type": "code",
   "execution_count": 7,
   "metadata": {},
   "outputs": [],
   "source": [
    "# make a new df containing only \"Female\" from the gender df\n",
    "f = gender[gender['Gender'] == \"Female\"]\n",
    "# pick only the folowing columns, folketinget, whisper.tiny, whisper.small, whisper.medium, whisper.large.v2, hviske, folketinget_norm, whisper.tiny_norm, whisper.small_norm, whisper.medium_norm, whisper.large.v2_norm, hviske_norm\n",
    "f = f[['folketinget', 'whisper.tiny', 'whisper.small', 'whisper.medium', 'whisper.large.v2', 'hviske', 'folketinget_norm', 'whisper.tiny_norm', 'whisper.small_norm', 'whisper.medium_norm', 'whisper.large.v2_norm', 'hviske_norm']]\n",
    "# repeat for Male\n",
    "m = gender[gender['Gender'] == \"Male\"]\n",
    "m = m[['folketinget', 'whisper.tiny', 'whisper.small', 'whisper.medium', 'whisper.large.v2', 'hviske', 'folketinget_norm', 'whisper.tiny_norm', 'whisper.small_norm', 'whisper.medium_norm', 'whisper.large.v2_norm', 'hviske_norm']]"
   ]
  },
  {
   "cell_type": "code",
   "execution_count": 8,
   "metadata": {},
   "outputs": [],
   "source": [
    "# make all rows of column folketinget into one string\n",
    "folketinget = ' '.join(f['folketinget'].astype(str))\n",
    "folketinget_norm = ' '.join(f['folketinget_norm'].astype(str))\n",
    "whisper_tiny = ' '.join(f['whisper.tiny'].astype(str))\n",
    "whisper_tiny_norm = ' '.join(f['whisper.tiny_norm'].astype(str))\n",
    "whisper_small = ' '.join(f['whisper.small'].astype(str))\n",
    "whisper_small_norm = ' '.join(f['whisper.small_norm'].astype(str))\n",
    "whisper_medium = ' '.join(f['whisper.medium'].astype(str))\n",
    "whisper_medium_norm = ' '.join(f['whisper.medium_norm'].astype(str))\n",
    "whisper_large_v2 = ' '.join(f['whisper.large.v2'].astype(str))\n",
    "whisper_large_v2_norm = ' '.join(f['whisper.large.v2_norm'].astype(str))\n",
    "hviske = ' '.join(f['hviske'].astype(str))\n",
    "hviske_norm = ' '.join(f['hviske_norm'].astype(str))\n",
    "\n",
    "# put all strings into a list\n",
    "norm_strings = [folketinget_norm, whisper_tiny_norm, whisper_small_norm, whisper_medium_norm, whisper_large_v2_norm, hviske_norm]\n",
    "norm_strings_name = [\"folketinget_norm\", \"whisper_tiny_norm\", \"whisper_small_norm\", \"whisper_medium_norm\", \"whisper_large_v2_norm\", \"hviske_norm\"]\n",
    "strings = [folketinget, whisper_tiny, whisper_small, whisper_medium, whisper_large_v2, hviske]\n",
    "strings_name = [\"folketinget\", \"whisper_tiny\", \"whisper_small\", \"whisper_medium\", \"whisper_large_v2\", \"hviske\"]"
   ]
  },
  {
   "cell_type": "code",
   "execution_count": 9,
   "metadata": {},
   "outputs": [
    {
     "name": "stdout",
     "output_type": "stream",
     "text": [
      "FEMALE WER for folketinget: 0.0\n",
      "FEMALE WER for whisper_tiny: 91.61\n",
      "FEMALE WER for whisper_small: 44.54\n",
      "FEMALE WER for whisper_medium: 33.59\n",
      "FEMALE WER for whisper_large_v2: 36.43\n",
      "FEMALE WER for hviske: 41.86\n",
      "FEMALE WER for folketinget_norm: 0.0\n",
      "FEMALE WER for whisper_tiny_norm: 86.53\n",
      "FEMALE WER for whisper_small_norm: 39.3\n",
      "FEMALE WER for whisper_medium_norm: 28.24\n",
      "FEMALE WER for whisper_large_v2_norm: 31.27\n",
      "FEMALE WER for hviske_norm: 34.51\n"
     ]
    }
   ],
   "source": [
    "# calculate WER for all models, and show the results\n",
    "# Calculate WER for each model\n",
    "F_WERs = []\n",
    "for text, name in zip(strings, strings_name):\n",
    "    wer_score = wer.compute(predictions=[text], references=[folketinget])\n",
    "    # save the modelname and results in a list\n",
    "    F_WERs.append([name, wer_score])\n",
    "    print(f\"FEMALE WER for {name}: {round((wer_score*100),2)}\")\n",
    "\n",
    "# Calculate WER for each model\n",
    "for text, name in zip(norm_strings, norm_strings_name):\n",
    "    wer_score = wer.compute(predictions=[text], references=[folketinget_norm])\n",
    "    F_WERs.append([name, wer_score])\n",
    "    print(f\"FEMALE WER for {name}: {round((wer_score*100),2)}\")"
   ]
  },
  {
   "cell_type": "code",
   "execution_count": 10,
   "metadata": {},
   "outputs": [],
   "source": [
    "# make all rows of column folketinget into one string\n",
    "folketinget = ' '.join(m['folketinget'].astype(str))\n",
    "folketinget_norm = ' '.join(m['folketinget_norm'].astype(str))\n",
    "whisper_tiny = ' '.join(m['whisper.tiny'].astype(str))\n",
    "whisper_tiny_norm = ' '.join(m['whisper.tiny_norm'].astype(str))\n",
    "whisper_small = ' '.join(m['whisper.small'].astype(str))\n",
    "whisper_small_norm = ' '.join(m['whisper.small_norm'].astype(str))\n",
    "whisper_medium = ' '.join(m['whisper.medium'].astype(str))\n",
    "whisper_medium_norm = ' '.join(m['whisper.medium_norm'].astype(str))\n",
    "whisper_large_v2 = ' '.join(m['whisper.large.v2'].astype(str))\n",
    "whisper_large_v2_norm = ' '.join(m['whisper.large.v2_norm'].astype(str))\n",
    "hviske = ' '.join(m['hviske'].astype(str))\n",
    "hviske_norm = ' '.join(m['hviske_norm'].astype(str))\n",
    "\n",
    "# put all strings into a list\n",
    "norm_strings = [folketinget_norm, whisper_tiny_norm, whisper_small_norm, whisper_medium_norm, whisper_large_v2_norm, hviske_norm]\n",
    "norm_strings_name = [\"folketinget_norm\", \"whisper_tiny_norm\", \"whisper_small_norm\", \"whisper_medium_norm\", \"whisper_large_v2_norm\", \"hviske_norm\"]\n",
    "strings = [folketinget, whisper_tiny, whisper_small, whisper_medium, whisper_large_v2, hviske]\n",
    "strings_name = [\"folketinget\", \"whisper_tiny\", \"whisper_small\", \"whisper_medium\", \"whisper_large_v2\", \"hviske\"]"
   ]
  },
  {
   "cell_type": "code",
   "execution_count": 11,
   "metadata": {},
   "outputs": [
    {
     "name": "stdout",
     "output_type": "stream",
     "text": [
      "MALE WER for folketinget: 0.0\n",
      "MALE WER for whisper_tiny: 97.85\n",
      "MALE WER for whisper_small: 49.27\n",
      "MALE WER for whisper_medium: 38.55\n",
      "MALE WER for whisper_large_v2: 34.54\n",
      "MALE WER for hviske: 50.02\n",
      "MALE WER for folketinget_norm: 0.0\n",
      "MALE WER for whisper_tiny_norm: 93.62\n",
      "MALE WER for whisper_small_norm: 44.08\n",
      "MALE WER for whisper_medium_norm: 33.84\n",
      "MALE WER for whisper_large_v2_norm: 29.37\n",
      "MALE WER for hviske_norm: 43.23\n"
     ]
    }
   ],
   "source": [
    "# calculate WER for all models, and show the results\n",
    "# Calculate WER for each model\n",
    "M_WERs = []\n",
    "for text, name in zip(strings, strings_name):\n",
    "    wer_score = wer.compute(predictions=[text], references=[folketinget])\n",
    "    # save the modelname and results in a list\n",
    "    M_WERs.append([name, wer_score])\n",
    "    print(f\"MALE WER for {name}: {round((wer_score*100),2)}\")\n",
    "\n",
    "# Calculate WER for each model\n",
    "for text, name in zip(norm_strings, norm_strings_name):\n",
    "    wer_score = wer.compute(predictions=[text], references=[folketinget_norm])\n",
    "    M_WERs.append([name, wer_score])\n",
    "    print(f\"MALE WER for {name}: {round((wer_score*100),2)}\")"
   ]
  },
  {
   "cell_type": "code",
   "execution_count": 12,
   "metadata": {},
   "outputs": [
    {
     "name": "stdout",
     "output_type": "stream",
     "text": [
      "[['folketinget', 0.0], ['whisper_tiny', 0.9161451814768461], ['whisper_small', 0.44544316759585845], ['whisper_medium', 0.3358743884400956], ['whisper_large_v2', 0.36431903515758335], ['hviske', 0.41859142109455], ['folketinget_norm', 0.0], ['whisper_tiny_norm', 0.8653168012740302], ['whisper_small_norm', 0.39301558412012283], ['whisper_medium_norm', 0.2824479581390058], ['whisper_large_v2_norm', 0.3127061767716983], ['hviske_norm', 0.34512569673529747]]\n",
      "[['folketinget', 0.0], ['whisper_tiny', 0.97850275467214], ['whisper_small', 0.4927082208058766], ['whisper_medium', 0.385546073241871], ['whisper_large_v2', 0.3453602679053689], ['hviske', 0.5001620395376472], ['folketinget_norm', 0.0], ['whisper_tiny_norm', 0.9361931450743695], ['whisper_small_norm', 0.4408277646044406], ['whisper_medium_norm', 0.3384350075447295], ['whisper_large_v2_norm', 0.29370553998706617], ['hviske_norm', 0.4323129984910541]]\n"
     ]
    }
   ],
   "source": [
    "print(F_WERs)\n",
    "print(M_WERs)"
   ]
  }
 ],
 "metadata": {
  "kernelspec": {
   "display_name": "audio_env",
   "language": "python",
   "name": "audio_env"
  },
  "language_info": {
   "codemirror_mode": {
    "name": "ipython",
    "version": 3
   },
   "file_extension": ".py",
   "mimetype": "text/x-python",
   "name": "python",
   "nbconvert_exporter": "python",
   "pygments_lexer": "ipython3",
   "version": "3.11.6"
  }
 },
 "nbformat": 4,
 "nbformat_minor": 2
}
